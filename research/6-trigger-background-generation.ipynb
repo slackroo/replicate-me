{
 "cells": [
  {
   "cell_type": "code",
   "id": "initial_id",
   "metadata": {
    "collapsed": true,
    "ExecuteTime": {
     "end_time": "2025-04-18T15:00:54.502982Z",
     "start_time": "2025-04-18T15:00:54.103520Z"
    }
   },
   "source": [
    "import mimetypes\n",
    "import pathlib\n",
    "import shutil\n",
    "import tempfile\n",
    "\n",
    "from PIL import Image, ImageOps\n",
    "from replicate.client import Client\n",
    "from decouple import Config, RepositoryEnv, config\n",
    "# from  pillow_heif import register_heif_opener.  # for mac images\n",
    "# register_heif_opener()\n",
    "\n"
   ],
   "outputs": [],
   "execution_count": 1
  },
  {
   "metadata": {
    "ExecuteTime": {
     "end_time": "2025-04-18T15:00:54.789812Z",
     "start_time": "2025-04-18T15:00:54.777022Z"
    }
   },
   "cell_type": "code",
   "source": [
    "# pathlib.Path(__file__).resolve() # For python file\n",
    "NBS_DIR = pathlib.Path().resolve()\n",
    "REPO_DIR = NBS_DIR.parent\n",
    "DATA_DIR = REPO_DIR / 'data'\n",
    "# INPUT_DIR = DATA_DIR / 'inputs'\n",
    "# READY_DIR = DATA_DIR / 'ready'\n",
    "# OUTPUT_DIR = DATA_DIR / 'outputs'\n",
    "GENERATED_DIR = DATA_DIR / 'generated'\n",
    "GENERATED_DIR.mkdir(exist_ok=True, parents=True)\n",
    "REFERENCES_DIR = DATA_DIR / 'references'\n",
    "REFERENCES_DIR.mkdir(exist_ok=True, parents=True)\n",
    "\n",
    "\n",
    "config_env = Config(RepositoryEnv(REPO_DIR / '.env'))\n",
    "REPLICATE_API_TOKEN = config_env('REPLICATE_API_TOKEN', default=None, cast=str)\n",
    "REPLICATE_MODEL = config('REPLICATE_MODEL', default=\"slackroo/superme-sumanth-v1\")\n",
    "REPLICATE_MODEL_VERSION = config('REPLICATE_MODEL_VERSION', default=\"535caef9907be746cc55ccde50aa5eee85d8f987d11c8c4735d70a18d1e37f49\", cast=str)\n",
    "\n",
    "REPLICATE_MODEL"
   ],
   "id": "e76a939b747a0305",
   "outputs": [
    {
     "data": {
      "text/plain": [
       "'slackroo/superme-sumanth-v1'"
      ]
     },
     "execution_count": 2,
     "metadata": {},
     "output_type": "execute_result"
    }
   ],
   "execution_count": 2
  },
  {
   "metadata": {},
   "cell_type": "markdown",
   "source": "# Generate Image\n",
   "id": "d811c18f840f7e18"
  },
  {
   "metadata": {
    "ExecuteTime": {
     "end_time": "2025-04-18T15:00:54.843785Z",
     "start_time": "2025-04-18T15:00:54.839553Z"
    }
   },
   "cell_type": "code",
   "source": [
    "\n",
    "replicate_client = Client(api_token=REPLICATE_API_TOKEN)"
   ],
   "id": "17a9f0b9e560fc87",
   "outputs": [],
   "execution_count": 3
  },
  {
   "metadata": {
    "ExecuteTime": {
     "end_time": "2025-04-18T15:00:54.883614Z",
     "start_time": "2025-04-18T15:00:54.879524Z"
    }
   },
   "cell_type": "code",
   "source": [
    "# reference_image_path = REFERENCES_DIR/ \"spider-man.webp\"\n",
    "# ref_image = open(reference_image_path, \"rb\")\n"
   ],
   "id": "457f96f5a12a9de7",
   "outputs": [],
   "execution_count": 4
  },
  {
   "metadata": {
    "ExecuteTime": {
     "end_time": "2025-04-18T15:00:54.916056Z",
     "start_time": "2025-04-18T15:00:54.912285Z"
    }
   },
   "cell_type": "code",
   "source": [
    "model_f_version = f\"{REPLICATE_MODEL}:{REPLICATE_MODEL_VERSION}\"\n",
    "prompt = \"a phot of TOK who is a architecture explaining building plans to a contractor\"\n",
    "num_outputs = 2\n",
    "output_format = \"jpg\"\n",
    "\n",
    "input_args = {\n",
    "    \"prompt\": prompt,\n",
    "    \"num_outputs\": 2,\n",
    "    \"output_format\": \"jpg\",\n",
    "}\n"
   ],
   "id": "ec6b794b2b70aa89",
   "outputs": [],
   "execution_count": 5
  },
  {
   "metadata": {
    "ExecuteTime": {
     "end_time": "2025-04-18T15:00:58.533388Z",
     "start_time": "2025-04-18T15:00:54.947031Z"
    }
   },
   "cell_type": "code",
   "source": [
    "replicate_model = replicate_client.models.get(REPLICATE_MODEL)\n",
    "replicate_version = replicate_model.versions.get(REPLICATE_MODEL_VERSION)\n",
    "pred = replicate_client.predictions.create(\n",
    "    version=replicate_version,\n",
    "    input=input_args,\n",
    ")"
   ],
   "id": "12fe8182ac5ee16b",
   "outputs": [],
   "execution_count": 6
  },
  {
   "metadata": {
    "ExecuteTime": {
     "end_time": "2025-04-18T15:00:58.557379Z",
     "start_time": "2025-04-18T15:00:58.554753Z"
    }
   },
   "cell_type": "code",
   "source": "",
   "id": "5edcb7f2e57b3b",
   "outputs": [],
   "execution_count": null
  },
  {
   "metadata": {
    "ExecuteTime": {
     "end_time": "2025-04-18T15:00:58.578962Z",
     "start_time": "2025-04-18T15:00:58.574300Z"
    }
   },
   "cell_type": "code",
   "source": "pred.id",
   "id": "59754768f5a18e6c",
   "outputs": [
    {
     "data": {
      "text/plain": [
       "'rxcqyjedvhrme0cp95nbtv592c'"
      ]
     },
     "execution_count": 7,
     "metadata": {},
     "output_type": "execute_result"
    }
   ],
   "execution_count": 7
  },
  {
   "metadata": {
    "ExecuteTime": {
     "end_time": "2025-04-18T15:00:58.619786Z",
     "start_time": "2025-04-18T15:00:58.615476Z"
    }
   },
   "cell_type": "code",
   "source": "pred.status",
   "id": "2052052df9c46fa4",
   "outputs": [
    {
     "data": {
      "text/plain": [
       "'starting'"
      ]
     },
     "execution_count": 8,
     "metadata": {},
     "output_type": "execute_result"
    }
   ],
   "execution_count": 8
  },
  {
   "metadata": {
    "ExecuteTime": {
     "end_time": "2025-04-18T15:00:58.656676Z",
     "start_time": "2025-04-18T15:00:58.653079Z"
    }
   },
   "cell_type": "code",
   "source": "# upstash -> qstash to jelp with polling process",
   "id": "1abf3d762f7596b0",
   "outputs": [],
   "execution_count": 9
  },
  {
   "metadata": {
    "ExecuteTime": {
     "end_time": "2025-04-18T15:01:29.766675Z",
     "start_time": "2025-04-18T15:01:28.775019Z"
    }
   },
   "cell_type": "code",
   "source": [
    "pred_id = \"rxcqyjedvhrme0cp95nbtv592c\"\n",
    "pred_lookup = replicate_client.predictions.get(pred_id)"
   ],
   "id": "aca30db71d5a1ad2",
   "outputs": [],
   "execution_count": 16
  },
  {
   "metadata": {
    "ExecuteTime": {
     "end_time": "2025-04-18T15:01:30.500636Z",
     "start_time": "2025-04-18T15:01:30.495887Z"
    }
   },
   "cell_type": "code",
   "source": "pred_lookup.status",
   "id": "b4a92a99d9119432",
   "outputs": [
    {
     "data": {
      "text/plain": [
       "'succeeded'"
      ]
     },
     "execution_count": 17,
     "metadata": {},
     "output_type": "execute_result"
    }
   ],
   "execution_count": 17
  },
  {
   "metadata": {
    "ExecuteTime": {
     "end_time": "2025-04-18T15:01:33.272138Z",
     "start_time": "2025-04-18T15:01:33.268919Z"
    }
   },
   "cell_type": "code",
   "source": [
    "\n",
    "pred.output"
   ],
   "id": "c9b944b81052c204",
   "outputs": [],
   "execution_count": 18
  },
  {
   "metadata": {
    "ExecuteTime": {
     "end_time": "2025-04-18T15:01:34.954283Z",
     "start_time": "2025-04-18T15:01:34.949549Z"
    }
   },
   "cell_type": "code",
   "source": [
    "pred_urls = pred_lookup.output\n",
    "pred_urls"
   ],
   "id": "30441ce09111fe08",
   "outputs": [
    {
     "data": {
      "text/plain": [
       "['https://replicate.delivery/xezq/8AzVxsmffgq37UnugypDKKQ6HTq3xPuwxa0NK9IgcUj8sBkUA/out-0.jpg',\n",
       " 'https://replicate.delivery/xezq/TeZuKA3dKaSpQSQ53jXncslAGMxUdN8G6m2kH8jIT1aesBkUA/out-1.jpg']"
      ]
     },
     "execution_count": 19,
     "metadata": {},
     "output_type": "execute_result"
    }
   ],
   "execution_count": 19
  },
  {
   "metadata": {
    "ExecuteTime": {
     "end_time": "2025-04-18T15:01:41.641986Z",
     "start_time": "2025-04-18T15:01:41.638683Z"
    }
   },
   "cell_type": "code",
   "source": [
    "import httpx\n",
    "import random"
   ],
   "id": "870ef322779c768d",
   "outputs": [],
   "execution_count": 20
  },
  {
   "metadata": {
    "ExecuteTime": {
     "end_time": "2025-04-18T15:01:45.341892Z",
     "start_time": "2025-04-18T15:01:42.287279Z"
    }
   },
   "cell_type": "code",
   "source": [
    "\n",
    "session_id = random.randint(1, 50_000)\n",
    "with httpx.Client() as client:\n",
    "\n",
    "    for i , url in enumerate(pred_urls):\n",
    "        fname= f\"{i}-{session_id}.jpg\"\n",
    "        outpath = GENERATED_DIR / fname\n",
    "        res =  client.get(url)\n",
    "        res.raise_for_status()\n",
    "        with open(outpath, 'wb') as f:\n",
    "            f.write(res.content)\n"
   ],
   "id": "fa3bd65625b10229",
   "outputs": [],
   "execution_count": 21
  },
  {
   "metadata": {},
   "cell_type": "code",
   "outputs": [],
   "execution_count": null,
   "source": "",
   "id": "45f270f590be5534"
  }
 ],
 "metadata": {
  "kernelspec": {
   "display_name": "Python 3",
   "language": "python",
   "name": "python3"
  },
  "language_info": {
   "codemirror_mode": {
    "name": "ipython",
    "version": 2
   },
   "file_extension": ".py",
   "mimetype": "text/x-python",
   "name": "python",
   "nbconvert_exporter": "python",
   "pygments_lexer": "ipython2",
   "version": "2.7.6"
  }
 },
 "nbformat": 4,
 "nbformat_minor": 5
}
