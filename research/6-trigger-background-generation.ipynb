{
 "cells": [
  {
   "cell_type": "code",
   "id": "initial_id",
   "metadata": {
    "collapsed": true,
    "ExecuteTime": {
     "end_time": "2025-04-11T11:12:33.581983Z",
     "start_time": "2025-04-11T11:12:33.578688Z"
    }
   },
   "source": [
    "import mimetypes\n",
    "import pathlib\n",
    "import shutil\n",
    "import tempfile\n",
    "\n",
    "from PIL import Image, ImageOps\n",
    "from replicate.client import Client\n",
    "from decouple import Config, RepositoryEnv, config\n",
    "# from  pillow_heif import register_heif_opener.  # for mac images\n",
    "# register_heif_opener()\n",
    "\n"
   ],
   "outputs": [],
   "execution_count": 6
  },
  {
   "metadata": {
    "ExecuteTime": {
     "end_time": "2025-04-11T11:12:33.606693Z",
     "start_time": "2025-04-11T11:12:33.599239Z"
    }
   },
   "cell_type": "code",
   "source": [
    "# pathlib.Path(__file__).resolve() # For python file\n",
    "NBS_DIR = pathlib.Path().resolve()\n",
    "REPO_DIR = NBS_DIR.parent\n",
    "DATA_DIR = REPO_DIR / 'data'\n",
    "# INPUT_DIR = DATA_DIR / 'inputs'\n",
    "# READY_DIR = DATA_DIR / 'ready'\n",
    "# OUTPUT_DIR = DATA_DIR / 'outputs'\n",
    "GENERATED_DIR = DATA_DIR / 'generated'\n",
    "GENERATED_DIR.mkdir(exist_ok=True, parents=True)\n",
    "REFERENCES_DIR = DATA_DIR / 'references'\n",
    "REFERENCES_DIR.mkdir(exist_ok=True, parents=True)\n",
    "\n",
    "\n",
    "config_env = Config(RepositoryEnv(REPO_DIR / '.env'))\n",
    "REPLICATE_API_TOKEN = config_env('REPLICATE_API_TOKEN', default=None, cast=str)\n",
    "REPLICATE_MODEL = config('REPLICATE_MODEL', default=\"slackroo/superme-sumanth-v1\")\n",
    "REPLICATE_MODEL_VERSION = config('REPLICATE_MODEL_VERSION', default=\"535caef9907be746cc55ccde50aa5eee85d8f987d11c8c4735d70a18d1e37f49\", cast=str)\n",
    "\n",
    "REPLICATE_MODEL"
   ],
   "id": "e76a939b747a0305",
   "outputs": [
    {
     "data": {
      "text/plain": [
       "'slackroo/superme-sumanth-v1'"
      ]
     },
     "execution_count": 7,
     "metadata": {},
     "output_type": "execute_result"
    }
   ],
   "execution_count": 7
  },
  {
   "metadata": {},
   "cell_type": "markdown",
   "source": "# Generate Image\n",
   "id": "d811c18f840f7e18"
  },
  {
   "metadata": {
    "ExecuteTime": {
     "end_time": "2025-04-11T11:12:33.619921Z",
     "start_time": "2025-04-11T11:12:33.616865Z"
    }
   },
   "cell_type": "code",
   "source": [
    "\n",
    "replicate_client = Client(api_token=REPLICATE_API_TOKEN)"
   ],
   "id": "17a9f0b9e560fc87",
   "outputs": [],
   "execution_count": 8
  },
  {
   "metadata": {
    "ExecuteTime": {
     "end_time": "2025-04-11T11:12:33.643255Z",
     "start_time": "2025-04-11T11:12:33.640701Z"
    }
   },
   "cell_type": "code",
   "source": [
    "# reference_image_path = REFERENCES_DIR/ \"spider-man.webp\"\n",
    "# ref_image = open(reference_image_path, \"rb\")\n"
   ],
   "id": "457f96f5a12a9de7",
   "outputs": [],
   "execution_count": 9
  },
  {
   "metadata": {
    "ExecuteTime": {
     "end_time": "2025-04-12T12:22:34.420108Z",
     "start_time": "2025-04-12T12:22:34.416099Z"
    }
   },
   "cell_type": "code",
   "source": [
    "model_f_version = f\"{REPLICATE_MODEL}:{REPLICATE_MODEL_VERSION}\"\n",
    "prompt = \"a phot of TOK who is a architecture explaining building plans to a contractor\"\n",
    "num_outputs = 2\n",
    "output_format = \"jpg\"\n",
    "\n",
    "input_args = {\n",
    "    \"prompt\": prompt,\n",
    "    \"num_outputs\": 2,\n",
    "    \"output_format\": \"jpg\",\n",
    "}\n"
   ],
   "id": "ec6b794b2b70aa89",
   "outputs": [],
   "execution_count": 38
  },
  {
   "metadata": {
    "ExecuteTime": {
     "end_time": "2025-04-12T12:22:40.558897Z",
     "start_time": "2025-04-12T12:22:36.455936Z"
    }
   },
   "cell_type": "code",
   "source": [
    "replicate_model = replicate_client.models.get(REPLICATE_MODEL)\n",
    "replicate_version = replicate_model.versions.get(REPLICATE_MODEL_VERSION)\n",
    "pred = replicate_client.predictions.create(\n",
    "    version=replicate_version,\n",
    "    input=input_args,\n",
    ")"
   ],
   "id": "12fe8182ac5ee16b",
   "outputs": [],
   "execution_count": 39
  },
  {
   "metadata": {
    "ExecuteTime": {
     "end_time": "2025-04-12T12:22:43.527991Z",
     "start_time": "2025-04-12T12:22:43.525147Z"
    }
   },
   "cell_type": "code",
   "source": "",
   "id": "5edcb7f2e57b3b",
   "outputs": [],
   "execution_count": null
  },
  {
   "metadata": {
    "ExecuteTime": {
     "end_time": "2025-04-12T12:22:44.019341Z",
     "start_time": "2025-04-12T12:22:44.014783Z"
    }
   },
   "cell_type": "code",
   "source": "pred.id",
   "id": "59754768f5a18e6c",
   "outputs": [
    {
     "data": {
      "text/plain": [
       "'t7zrzh5qr5rma0cp57sr59knjw'"
      ]
     },
     "execution_count": 40,
     "metadata": {},
     "output_type": "execute_result"
    }
   ],
   "execution_count": 40
  },
  {
   "metadata": {
    "ExecuteTime": {
     "end_time": "2025-04-12T12:23:03.502349Z",
     "start_time": "2025-04-12T12:23:03.497638Z"
    }
   },
   "cell_type": "code",
   "source": "pred.status",
   "id": "2052052df9c46fa4",
   "outputs": [
    {
     "data": {
      "text/plain": [
       "'starting'"
      ]
     },
     "execution_count": 47,
     "metadata": {},
     "output_type": "execute_result"
    }
   ],
   "execution_count": 47
  },
  {
   "metadata": {
    "ExecuteTime": {
     "end_time": "2025-04-12T12:23:05.735982Z",
     "start_time": "2025-04-12T12:23:05.732300Z"
    }
   },
   "cell_type": "code",
   "source": "# upstash -> qstash to jelp with polling process",
   "id": "1abf3d762f7596b0",
   "outputs": [],
   "execution_count": 48
  },
  {
   "metadata": {
    "ExecuteTime": {
     "end_time": "2025-04-12T12:23:06.873635Z",
     "start_time": "2025-04-12T12:23:06.323671Z"
    }
   },
   "cell_type": "code",
   "source": [
    "pred_id = \"t7zrzh5qr5rma0cp57sr59knjw\"\n",
    "pred_lookup = replicate_client.predictions.get(pred_id)"
   ],
   "id": "aca30db71d5a1ad2",
   "outputs": [],
   "execution_count": 49
  },
  {
   "metadata": {
    "ExecuteTime": {
     "end_time": "2025-04-12T12:23:08.549327Z",
     "start_time": "2025-04-12T12:23:08.539091Z"
    }
   },
   "cell_type": "code",
   "source": "pred_lookup.status",
   "id": "b4a92a99d9119432",
   "outputs": [
    {
     "data": {
      "text/plain": [
       "'succeeded'"
      ]
     },
     "execution_count": 50,
     "metadata": {},
     "output_type": "execute_result"
    }
   ],
   "execution_count": 50
  },
  {
   "metadata": {
    "ExecuteTime": {
     "end_time": "2025-04-12T12:23:09.617582Z",
     "start_time": "2025-04-12T12:23:09.614045Z"
    }
   },
   "cell_type": "code",
   "source": [
    "\n",
    "pred.output"
   ],
   "id": "c9b944b81052c204",
   "outputs": [],
   "execution_count": 51
  },
  {
   "metadata": {
    "ExecuteTime": {
     "end_time": "2025-04-12T12:23:10.126286Z",
     "start_time": "2025-04-12T12:23:10.121017Z"
    }
   },
   "cell_type": "code",
   "source": [
    "pred_urls = pred_lookup.output\n",
    "pred_urls"
   ],
   "id": "30441ce09111fe08",
   "outputs": [
    {
     "data": {
      "text/plain": [
       "['https://replicate.delivery/xezq/wlY6v49qMaKTEB7TYZNTDuWEslCPLhXesSCsQlDdYxZRaARKA/out-0.jpg',\n",
       " 'https://replicate.delivery/xezq/pXMeFWEsyYWnPSRHDzJPj02HCRra7Bb4yFoINPVAGzERaARKA/out-1.jpg']"
      ]
     },
     "execution_count": 52,
     "metadata": {},
     "output_type": "execute_result"
    }
   ],
   "execution_count": 52
  },
  {
   "metadata": {
    "ExecuteTime": {
     "end_time": "2025-04-12T12:23:10.963689Z",
     "start_time": "2025-04-12T12:23:10.959920Z"
    }
   },
   "cell_type": "code",
   "source": [
    "import httpx\n",
    "import random"
   ],
   "id": "870ef322779c768d",
   "outputs": [],
   "execution_count": 53
  },
  {
   "metadata": {
    "ExecuteTime": {
     "end_time": "2025-04-12T12:23:15.050377Z",
     "start_time": "2025-04-12T12:23:12.030784Z"
    }
   },
   "cell_type": "code",
   "source": [
    "\n",
    "session_id = random.randint(1, 50_000)\n",
    "with httpx.Client() as client:\n",
    "\n",
    "    for i , url in enumerate(pred_urls):\n",
    "        fname= f\"{i}-{session_id}.jpg\"\n",
    "        outpath = GENERATED_DIR / fname\n",
    "        res =  client.get(url)\n",
    "        res.raise_for_status()\n",
    "        with open(outpath, 'wb') as f:\n",
    "            f.write(res.content)\n"
   ],
   "id": "fa3bd65625b10229",
   "outputs": [],
   "execution_count": 54
  },
  {
   "metadata": {},
   "cell_type": "code",
   "outputs": [],
   "execution_count": null,
   "source": "",
   "id": "45f270f590be5534"
  }
 ],
 "metadata": {
  "kernelspec": {
   "display_name": "Python 3",
   "language": "python",
   "name": "python3"
  },
  "language_info": {
   "codemirror_mode": {
    "name": "ipython",
    "version": 2
   },
   "file_extension": ".py",
   "mimetype": "text/x-python",
   "name": "python",
   "nbconvert_exporter": "python",
   "pygments_lexer": "ipython2",
   "version": "2.7.6"
  }
 },
 "nbformat": 4,
 "nbformat_minor": 5
}
