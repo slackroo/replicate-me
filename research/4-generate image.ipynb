{
 "cells": [
  {
   "cell_type": "code",
   "id": "initial_id",
   "metadata": {
    "collapsed": true
   },
   "source": [
    "import mimetypes\n",
    "import pathlib\n",
    "import shutil\n",
    "import tempfile\n",
    "\n",
    "from PIL import Image, ImageOps\n",
    "# from  pillow_heif import register_heif_opener.  # for mac images\n",
    "# register_heif_opener()\n",
    "\n"
   ],
   "outputs": [],
   "execution_count": null
  },
  {
   "metadata": {
    "ExecuteTime": {
     "end_time": "2025-04-11T10:16:50.925950Z",
     "start_time": "2025-04-11T10:16:50.921303Z"
    }
   },
   "cell_type": "code",
   "source": [
    "# pathlib.Path(__file__).resolve() # For python file\n",
    "NBS_DIR = pathlib.Path().resolve()\n",
    "REPO_DIR = NBS_DIR.parent\n",
    "DATA_DIR = REPO_DIR / 'data'\n",
    "INPUT_DIR = DATA_DIR / 'inputs'\n",
    "READY_DIR = DATA_DIR / 'ready'\n",
    "OUTPUT_DIR = DATA_DIR / 'outputs'\n",
    "GENERATED_DIR = DATA_DIR / 'generated'"
   ],
   "id": "18c53f8e1606b398",
   "outputs": [],
   "execution_count": 24
  },
  {
   "metadata": {},
   "cell_type": "code",
   "source": [
    "def perform_clear_and_optimize_image(image_path, output_path, max_size=(1920,1920)):\n",
    "\n",
    "    \"\"\"\n",
    "    Removes all metadata from the image ( eg. EXIF data)\n",
    "    Optimizes the image file size while preserving quality and transparency of the image\n",
    "    :param image_path:\n",
    "    :param output_path:\n",
    "    :param max_size: Fixed size\n",
    "    :return:\n",
    "    \"\"\"\n",
    "\n",
    "    # convert to path object\n",
    "    input_path = pathlib.Path(image_path)\n",
    "    output_path = pathlib.Path(output_path)\n",
    "\n",
    "    # Open and create a clean copy\n",
    "    original = Image.open(image_path)\n",
    "\n",
    "    # Determine if image has transparency\n",
    "    has_transparency = original.mode in ('RGBA', 'LA') or  (original.mode == 'P' and 'transparency' in original.info)\n",
    "\n",
    "    # Auto-rotate based on EXIF\n",
    "    original = ImageOps.exif_transpose(original)\n",
    "\n",
    "    # Resize if larger than the max_size while maintaining all aspects\n",
    "    if original.size[0]>max_size[0] or original.size[1]>max_size[1]:\n",
    "        original.thumbnail(max_size,Image.Resampling.LANCZOS)\n",
    "\n",
    "    # Convert mode based on transparency\n",
    "    if has_transparency:\n",
    "        if original.mode != 'RGBA':\n",
    "            original = original.convert('RGBA')\n",
    "        best_format = 'PNG'\n",
    "    else:\n",
    "        if original.mode in (\"RGBA\", \"P\", \"LA\"):\n",
    "            original = original.convert('RGB')\n",
    "        best_format = 'JPEG'\n",
    "\n",
    "    # save with optimized settings\n",
    "    save_kwargs = {}\n",
    "    if best_format == 'JPEG':\n",
    "        save_kwargs.update({\n",
    "           'quality': 85,\n",
    "            'optimize': True,\n",
    "            'progressive': True,\n",
    "        })\n",
    "        output_path = output_path.with_suffix('.jpg')\n",
    "    elif best_format == 'PNG':\n",
    "        save_kwargs.update({\n",
    "            'optimize': True,\n",
    "            'compress_level': 6,\n",
    "        })\n",
    "        output_path = output_path.with_suffix('.png')\n",
    "    print(f\"Saving {output_path}\")\n",
    "    original.save(output_path, format=best_format, **save_kwargs)\n",
    "    return output_path\n",
    "\n",
    "\n",
    "\n",
    "\n",
    "    # image = Image.open(image_path)\n",
    "    # image = ImageOps.exif_transpose(image)\n",
    "    # image = ImageOps.autocontrast(image)\n",
    "    # image = ImageOps.equalize(image)\n",
    "    # image = ImageOps.posterize(image, 4)\n",
    "    # image = ImageOps.solarize(image, threshold=128)\n",
    "    # image = ImageOps.invert(image)\n",
    "    # image = ImageOps.grayscale(image)\n",
    "    # image = ImageOps.colorize(image, black=\"black\", white=\"white\")"
   ],
   "id": "3caaf6bb4fc06f7",
   "outputs": [],
   "execution_count": null
  },
  {
   "metadata": {},
   "cell_type": "code",
   "source": [
    "\n",
    "def perform_is_image(path, require_can_open=True):\n",
    "\n",
    "    try:\n",
    "        guess_type, encoding = mimetypes.guess_type(path)\n",
    "        guess_type = guess_type or \"\"\n",
    "    except:\n",
    "        guess_type = \"\"\n",
    "    print(file_path.name, guess_type)\n",
    "    guessed_image = \"image\" in guess_type\n",
    "    if not guessed_image:\n",
    "        return False\n",
    "    if guessed_image and require_can_open:\n",
    "        try:\n",
    "            img_ = Image.open(path)\n",
    "            print(img_)\n",
    "        except:\n",
    "            return False\n",
    "    return True"
   ],
   "id": "8de0cc081ba163e1",
   "outputs": [],
   "execution_count": null
  },
  {
   "metadata": {},
   "cell_type": "code",
   "source": [
    "image_file_paths = []\n",
    "\n",
    "for file_path in INPUT_DIR.glob('*'):\n",
    "    print(file_path)\n",
    "    is_image = perform_is_image(file_path)\n",
    "    if not is_image:\n",
    "        continue\n",
    "    start_op_path = READY_DIR / file_path.name\n",
    "    final_op_path = perform_clear_and_optimize_image(file_path, start_op_path)\n",
    "    image_file_paths.append(final_op_path)\n",
    "\n",
    "image_file_paths"
   ],
   "id": "9d54283e37a32f9f",
   "outputs": [],
   "execution_count": null
  },
  {
   "metadata": {
    "ExecuteTime": {
     "end_time": "2025-04-11T10:17:13.556446Z",
     "start_time": "2025-04-11T10:17:13.552099Z"
    }
   },
   "cell_type": "code",
   "source": [
    "READY_DIR.mkdir(exist_ok=True, parents=True)\n",
    "OUTPUT_DIR.mkdir(exist_ok=True, parents=True)\n",
    "GENERATED_DIR.mkdir(exist_ok=True, parents=True)"
   ],
   "id": "1c91a0cfafa4ed86",
   "outputs": [],
   "execution_count": 26
  },
  {
   "metadata": {},
   "cell_type": "code",
   "source": [
    "zip_outpath = OUTPUT_DIR / 'images-optimized.zip'\n",
    "zip_outpath.exists()"
   ],
   "id": "9f5c589b4ca71499",
   "outputs": [],
   "execution_count": null
  },
  {
   "metadata": {},
   "cell_type": "code",
   "source": [
    "with tempfile.TemporaryDirectory() as temp_dir:\n",
    "    for path in image_file_paths:\n",
    "        shutil.copy(path, temp_dir)\n",
    "\n",
    "    shutil.make_archive(zip_outpath.with_suffix(''), 'zip', temp_dir)"
   ],
   "id": "e944487b71e0adbc",
   "outputs": [],
   "execution_count": null
  },
  {
   "metadata": {},
   "cell_type": "markdown",
   "source": "# Generate Image\n",
   "id": "d811c18f840f7e18"
  },
  {
   "metadata": {
    "ExecuteTime": {
     "end_time": "2025-04-11T10:08:34.279785Z",
     "start_time": "2025-04-11T10:08:34.273862Z"
    }
   },
   "cell_type": "code",
   "source": [
    "from decouple import Config, RepositoryEnv, config\n",
    "\n",
    "config_env = Config(RepositoryEnv(REPO_DIR / '.env'))\n",
    "REPLICATE_API_TOKEN = config_env('REPLICATE_API_TOKEN', default=None, cast=str)\n",
    "REPLICATE_MODEL = config('REPLICATE_MODEL', default=\"slackroo/superme-sumanth-v1\")\n",
    "REPLICATE_MODEL_VERSION = config('REPLICATE_MODEL_VERSION', default=\"535caef9907be746cc55ccde50aa5eee85d8f987d11c8c4735d70a18d1e37f49\", cast=str)\n",
    "\n",
    "REPLICATE_MODEL"
   ],
   "id": "e76a939b747a0305",
   "outputs": [
    {
     "data": {
      "text/plain": [
       "'slackroo/superme-sumanth-v1'"
      ]
     },
     "execution_count": 16,
     "metadata": {},
     "output_type": "execute_result"
    }
   ],
   "execution_count": 16
  },
  {
   "metadata": {
    "ExecuteTime": {
     "end_time": "2025-04-11T10:08:41.276516Z",
     "start_time": "2025-04-11T10:08:40.944371Z"
    }
   },
   "cell_type": "code",
   "source": [
    "from replicate.client import Client\n",
    "\n",
    "replicate_client = Client(api_token=REPLICATE_API_TOKEN)"
   ],
   "id": "17a9f0b9e560fc87",
   "outputs": [],
   "execution_count": 17
  },
  {
   "metadata": {
    "ExecuteTime": {
     "end_time": "2025-04-11T10:09:13.110988Z",
     "start_time": "2025-04-11T10:08:41.364015Z"
    }
   },
   "cell_type": "code",
   "source": [
    "model_f_version = f\"{REPLICATE_MODEL}:{REPLICATE_MODEL_VERSION}\"\n",
    "prompt = \"a phot of TOK adult man dressed up for a professsional photoshoot.\"\n",
    "responses= replicate_client.run(\n",
    "    model_f_version,\n",
    "    input={\n",
    "        \"model\": \"dev\",\n",
    "        \"prompt\": prompt,\n",
    "        \"go_fast\": False,\n",
    "        \"lora_scale\": 1,\n",
    "        \"megapixels\": \"1\",\n",
    "        \"num_outputs\": 4,\n",
    "        \"aspect_ratio\": \"1:1\",\n",
    "        \"output_format\": \"jpg\",\n",
    "        \"guidance_scale\": 3,\n",
    "        \"output_quality\": 80,\n",
    "        \"prompt_strength\": 0.8,\n",
    "        \"extra_lora_scale\": 1,\n",
    "        \"num_inference_steps\": 28\n",
    "    }\n",
    ")\n",
    "print(responses)"
   ],
   "id": "ec6b794b2b70aa89",
   "outputs": [
    {
     "name": "stdout",
     "output_type": "stream",
     "text": [
      "[<replicate.helpers.FileOutput object at 0x107542a50>, <replicate.helpers.FileOutput object at 0x107542a80>, <replicate.helpers.FileOutput object at 0x107542bd0>, <replicate.helpers.FileOutput object at 0x107542b70>]\n"
     ]
    }
   ],
   "execution_count": 18
  },
  {
   "metadata": {
    "ExecuteTime": {
     "end_time": "2025-04-11T10:09:55.277623Z",
     "start_time": "2025-04-11T10:09:55.272745Z"
    }
   },
   "cell_type": "code",
   "source": "len(responses)",
   "id": "f44f4ad64f6b57fd",
   "outputs": [
    {
     "data": {
      "text/plain": [
       "4"
      ]
     },
     "execution_count": 19,
     "metadata": {},
     "output_type": "execute_result"
    }
   ],
   "execution_count": 19
  },
  {
   "metadata": {
    "ExecuteTime": {
     "end_time": "2025-04-11T10:10:59.026001Z",
     "start_time": "2025-04-11T10:10:59.020913Z"
    }
   },
   "cell_type": "code",
   "source": "dir(responses[0])",
   "id": "d26dc218b9752d66",
   "outputs": [
    {
     "data": {
      "text/plain": [
       "['__aiter__',\n",
       " '__annotations__',\n",
       " '__class__',\n",
       " '__delattr__',\n",
       " '__dict__',\n",
       " '__dir__',\n",
       " '__doc__',\n",
       " '__eq__',\n",
       " '__format__',\n",
       " '__ge__',\n",
       " '__getattribute__',\n",
       " '__getstate__',\n",
       " '__gt__',\n",
       " '__hash__',\n",
       " '__init__',\n",
       " '__init_subclass__',\n",
       " '__iter__',\n",
       " '__le__',\n",
       " '__lt__',\n",
       " '__module__',\n",
       " '__ne__',\n",
       " '__new__',\n",
       " '__reduce__',\n",
       " '__reduce_ex__',\n",
       " '__repr__',\n",
       " '__setattr__',\n",
       " '__sizeof__',\n",
       " '__str__',\n",
       " '__subclasshook__',\n",
       " '__weakref__',\n",
       " '_client',\n",
       " 'aclose',\n",
       " 'aread',\n",
       " 'close',\n",
       " 'read',\n",
       " 'url']"
      ]
     },
     "execution_count": 22,
     "metadata": {},
     "output_type": "execute_result"
    }
   ],
   "execution_count": 22
  },
  {
   "metadata": {
    "ExecuteTime": {
     "end_time": "2025-04-11T10:17:24.675882Z",
     "start_time": "2025-04-11T10:17:20.264576Z"
    }
   },
   "cell_type": "code",
   "source": [
    "import random\n",
    "session_id = random.randint(1, 50_000)\n",
    "for i , output in enumerate(responses):\n",
    "    fname= f\"{i}-{session_id}.jpg\"\n",
    "    outpath = GENERATED_DIR / fname\n",
    "    with open(outpath, 'wb') as f:\n",
    "        f.write(output.read())\n",
    "    print(i,output)"
   ],
   "id": "5edcb7f2e57b3b",
   "outputs": [
    {
     "name": "stdout",
     "output_type": "stream",
     "text": [
      "0 https://replicate.delivery/xezq/Tnovv1ANCnaVPhDoftyq3oAdrDfMYMGZdKyFwf9iqbWQiTDpA/out-0.jpg\n",
      "1 https://replicate.delivery/xezq/ufoHzHDHZWUOL6sYsuo5WcRoe7HrdSkG3oB4KqKrBhCIxphUA/out-1.jpg\n",
      "2 https://replicate.delivery/xezq/9AB8D06LVT5eGagvMtDPnXrkROG0Y40oFISR5aun3eyIxphUA/out-2.jpg\n",
      "3 https://replicate.delivery/xezq/gZyHw9emDxVeCUT2iteuo2B7Li2EDZ6XhTTARxQAyiTRiTDpA/out-3.jpg\n"
     ]
    }
   ],
   "execution_count": 27
  },
  {
   "metadata": {},
   "cell_type": "code",
   "outputs": [],
   "execution_count": null,
   "source": "",
   "id": "59754768f5a18e6c"
  }
 ],
 "metadata": {
  "kernelspec": {
   "display_name": "Python 3",
   "language": "python",
   "name": "python3"
  },
  "language_info": {
   "codemirror_mode": {
    "name": "ipython",
    "version": 2
   },
   "file_extension": ".py",
   "mimetype": "text/x-python",
   "name": "python",
   "nbconvert_exporter": "python",
   "pygments_lexer": "ipython2",
   "version": "2.7.6"
  }
 },
 "nbformat": 4,
 "nbformat_minor": 5
}
