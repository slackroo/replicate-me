{
 "cells": [
  {
   "cell_type": "code",
   "id": "initial_id",
   "metadata": {
    "collapsed": true,
    "ExecuteTime": {
     "end_time": "2025-04-20T04:26:50.373150Z",
     "start_time": "2025-04-20T04:26:50.370079Z"
    }
   },
   "source": [
    "import httpx\n",
    "import pathlib\n",
    "from decouple import config, AutoConfig\n",
    "config = AutoConfig(' ')\n"
   ],
   "outputs": [],
   "execution_count": 16
  },
  {
   "metadata": {
    "ExecuteTime": {
     "end_time": "2025-04-20T04:27:18.392814Z",
     "start_time": "2025-04-20T04:27:18.389165Z"
    }
   },
   "cell_type": "code",
   "source": [
    "# pathlib.Path(__file__).resolve() # For python file\n",
    "NBS_DIR = pathlib.Path().resolve()\n",
    "REPO_DIR = NBS_DIR.parent\n",
    "DATA_DIR = REPO_DIR / 'data'\n",
    "INPUT_DIR = DATA_DIR / 'inputs'\n",
    "READY_DIR = DATA_DIR / 'ready'\n",
    "OUTPUT_DIR = DATA_DIR / 'outputs'\n",
    "GENERATED_DIR = DATA_DIR / 'generated'"
   ],
   "id": "19c0e58c7a308f54",
   "outputs": [],
   "execution_count": 19
  },
  {
   "metadata": {
    "ExecuteTime": {
     "end_time": "2025-04-20T06:13:16.538556Z",
     "start_time": "2025-04-20T06:13:14.172756Z"
    }
   },
   "cell_type": "code",
   "source": [
    "API_ACCESS_KEY = config('API_ACCESS_KEY')\n",
    "\n",
    "headers = {\n",
    "    \"X-API-Key\" : API_ACCESS_KEY\n",
    "}\n",
    "endpoint = \"http://127.0.0.1:8000/predictions\"\n",
    "# prompt = \"a phot of TOK who is a architecture explaining building plans to a contractor\"\n",
    "# res = httpx.get(endpoint, params={\"status\":\"processing\"}, headers=headers)\n",
    "res = httpx.get(endpoint,\n",
    "                params={\"status\":\"succeeded\"},\n",
    "                headers=headers,\n",
    "                )\n",
    "preds_json = res.json()"
   ],
   "id": "23a92292b5bbe71e",
   "outputs": [],
   "execution_count": 37
  },
  {
   "metadata": {
    "ExecuteTime": {
     "end_time": "2025-04-20T06:13:16.586654Z",
     "start_time": "2025-04-20T06:13:16.579584Z"
    }
   },
   "cell_type": "code",
   "source": "preds_json[0]",
   "id": "e3cfa3fa3a06fc60",
   "outputs": [
    {
     "data": {
      "text/plain": [
       "{'id': '8j6ec6hkk9rme0cpa78bh14vbm',\n",
       " 'url': '/predictions/8j6ec6hkk9rme0cpa78bh14vbm',\n",
       " 'status': 'succeeded',\n",
       " 'created_at': '2025-04-20T06:08:41.370000Z',\n",
       " 'started_at': '2025-04-20T06:08:41.389645Z',\n",
       " 'completed_at': '2025-04-20T06:08:59.129586Z'}"
      ]
     },
     "execution_count": 38,
     "metadata": {},
     "output_type": "execute_result"
    }
   ],
   "execution_count": 38
  },
  {
   "metadata": {
    "ExecuteTime": {
     "end_time": "2025-04-20T06:13:16.626703Z",
     "start_time": "2025-04-20T06:13:16.623910Z"
    }
   },
   "cell_type": "code",
   "source": "",
   "id": "75db2e8b831844f6",
   "outputs": [],
   "execution_count": null
  },
  {
   "metadata": {
    "ExecuteTime": {
     "end_time": "2025-04-20T06:14:02.620537Z",
     "start_time": "2025-04-20T06:13:16.648100Z"
    }
   },
   "cell_type": "code",
   "source": [
    "BASE_URL = \"http://127.0.0.1:8000\"\n",
    "for pred in preds_json:\n",
    "    path = pred.get('url')\n",
    "    endpoint = f\"{BASE_URL}{path}\"\n",
    "    res = httpx.get(endpoint, headers=headers)\n",
    "    if res.status_code not in range(200,299):\n",
    "        continue\n",
    "    data = res.json()\n",
    "    files = data.get('files')\n",
    "    if files is None:\n",
    "        continue\n",
    "    print(data)\n",
    "    obj_id = data.get('id')\n",
    "    with httpx.Client() as client:\n",
    "        for i , file_path in enumerate(files):\n",
    "            fname= pathlib.Path(file_path).name\n",
    "            outpath = GENERATED_DIR / obj_id / fname\n",
    "            outpath.parent.mkdir(parents=True, exist_ok=True)\n",
    "            if outpath.exists():\n",
    "                continue\n",
    "            url = f\"{BASE_URL}{file_path}\"\n",
    "            print(url)\n",
    "            res =  client.get(url, headers=headers)\n",
    "            res.raise_for_status()\n",
    "            with open(outpath, 'wb') as f:\n",
    "                f.write(res.content)\n",
    "    print(data)\n",
    "    # break\n",
    "\n"
   ],
   "id": "46acda785f8b9807",
   "outputs": [
    {
     "name": "stdout",
     "output_type": "stream",
     "text": [
      "{'id': '8j6ec6hkk9rme0cpa78bh14vbm', 'url': '/predictions/8j6ec6hkk9rme0cpa78bh14vbm', 'model': 'slackroo/superme-sumanth-v1', 'version': '535caef9907be746cc55ccde50aa5eee85d8f987d11c8c4735d70a18d1e37f49', 'status': 'succeeded', 'created_at': '2025-04-20T06:08:41.370000Z', 'completed_at': '2025-04-20T06:08:59.129586Z', 'files': ['/predictions/8j6ec6hkk9rme0cpa78bh14vbm/files/0.jpg', '/predictions/8j6ec6hkk9rme0cpa78bh14vbm/files/1.jpg'], 'num_outputs': 2}\n",
      "http://127.0.0.1:8000/predictions/8j6ec6hkk9rme0cpa78bh14vbm/files/0.jpg\n",
      "http://127.0.0.1:8000/predictions/8j6ec6hkk9rme0cpa78bh14vbm/files/1.jpg\n",
      "{'id': '8j6ec6hkk9rme0cpa78bh14vbm', 'url': '/predictions/8j6ec6hkk9rme0cpa78bh14vbm', 'model': 'slackroo/superme-sumanth-v1', 'version': '535caef9907be746cc55ccde50aa5eee85d8f987d11c8c4735d70a18d1e37f49', 'status': 'succeeded', 'created_at': '2025-04-20T06:08:41.370000Z', 'completed_at': '2025-04-20T06:08:59.129586Z', 'files': ['/predictions/8j6ec6hkk9rme0cpa78bh14vbm/files/0.jpg', '/predictions/8j6ec6hkk9rme0cpa78bh14vbm/files/1.jpg'], 'num_outputs': 2}\n",
      "{'id': '80v4ref15srma0cpa738r5nync', 'url': '/predictions/80v4ref15srma0cpa738r5nync', 'model': 'slackroo/superme-sumanth-v1', 'version': '535caef9907be746cc55ccde50aa5eee85d8f987d11c8c4735d70a18d1e37f49', 'status': 'succeeded', 'created_at': '2025-04-20T05:58:30.446000Z', 'completed_at': '2025-04-20T05:58:48.010519Z', 'files': ['/predictions/80v4ref15srma0cpa738r5nync/files/0.jpg', '/predictions/80v4ref15srma0cpa738r5nync/files/1.jpg'], 'num_outputs': 2}\n",
      "http://127.0.0.1:8000/predictions/80v4ref15srma0cpa738r5nync/files/0.jpg\n",
      "http://127.0.0.1:8000/predictions/80v4ref15srma0cpa738r5nync/files/1.jpg\n",
      "{'id': '80v4ref15srma0cpa738r5nync', 'url': '/predictions/80v4ref15srma0cpa738r5nync', 'model': 'slackroo/superme-sumanth-v1', 'version': '535caef9907be746cc55ccde50aa5eee85d8f987d11c8c4735d70a18d1e37f49', 'status': 'succeeded', 'created_at': '2025-04-20T05:58:30.446000Z', 'completed_at': '2025-04-20T05:58:48.010519Z', 'files': ['/predictions/80v4ref15srma0cpa738r5nync/files/0.jpg', '/predictions/80v4ref15srma0cpa738r5nync/files/1.jpg'], 'num_outputs': 2}\n",
      "{'id': '1b5xwge49nrm80cpa5j8bd8zwc', 'url': '/predictions/1b5xwge49nrm80cpa5j8bd8zwc', 'model': 'slackroo/superme-sumanth-v1', 'version': '535caef9907be746cc55ccde50aa5eee85d8f987d11c8c4735d70a18d1e37f49', 'status': 'succeeded', 'created_at': '2025-04-20T04:11:20.525000Z', 'completed_at': '2025-04-20T04:11:49.850134Z', 'files': [], 'num_outputs': 0}\n",
      "{'id': '1b5xwge49nrm80cpa5j8bd8zwc', 'url': '/predictions/1b5xwge49nrm80cpa5j8bd8zwc', 'model': 'slackroo/superme-sumanth-v1', 'version': '535caef9907be746cc55ccde50aa5eee85d8f987d11c8c4735d70a18d1e37f49', 'status': 'succeeded', 'created_at': '2025-04-20T04:11:20.525000Z', 'completed_at': '2025-04-20T04:11:49.850134Z', 'files': [], 'num_outputs': 0}\n",
      "{'id': '66habag1bhrmc0cpa4asnc89jr', 'url': '/predictions/66habag1bhrmc0cpa4asnc89jr', 'model': 'slackroo/superme-sumanth-v1', 'version': '535caef9907be746cc55ccde50aa5eee85d8f987d11c8c4735d70a18d1e37f49', 'status': 'succeeded', 'created_at': '2025-04-20T02:44:13.276000Z', 'completed_at': '2025-04-20T02:44:49.869277Z', 'files': [], 'num_outputs': 0}\n",
      "{'id': '66habag1bhrmc0cpa4asnc89jr', 'url': '/predictions/66habag1bhrmc0cpa4asnc89jr', 'model': 'slackroo/superme-sumanth-v1', 'version': '535caef9907be746cc55ccde50aa5eee85d8f987d11c8c4735d70a18d1e37f49', 'status': 'succeeded', 'created_at': '2025-04-20T02:44:13.276000Z', 'completed_at': '2025-04-20T02:44:49.869277Z', 'files': [], 'num_outputs': 0}\n",
      "{'id': 'rxcqyjedvhrme0cp95nbtv592c', 'url': '/predictions/rxcqyjedvhrme0cp95nbtv592c', 'model': 'slackroo/superme-sumanth-v1', 'version': '535caef9907be746cc55ccde50aa5eee85d8f987d11c8c4735d70a18d1e37f49', 'status': 'succeeded', 'created_at': '2025-04-18T15:00:58.460000Z', 'completed_at': '2025-04-18T15:01:16.611461Z', 'files': [], 'num_outputs': 0}\n",
      "{'id': 'rxcqyjedvhrme0cp95nbtv592c', 'url': '/predictions/rxcqyjedvhrme0cp95nbtv592c', 'model': 'slackroo/superme-sumanth-v1', 'version': '535caef9907be746cc55ccde50aa5eee85d8f987d11c8c4735d70a18d1e37f49', 'status': 'succeeded', 'created_at': '2025-04-18T15:00:58.460000Z', 'completed_at': '2025-04-18T15:01:16.611461Z', 'files': [], 'num_outputs': 0}\n",
      "{'id': '3sm7tg7x79rme0cp5xsvbrxrm8', 'url': '/predictions/3sm7tg7x79rme0cp5xsvbrxrm8', 'model': 'slackroo/superme-sumanth-v1', 'version': '535caef9907be746cc55ccde50aa5eee85d8f987d11c8c4735d70a18d1e37f49', 'status': 'succeeded', 'created_at': '2025-04-13T14:00:52.794000Z', 'completed_at': '2025-04-13T14:01:08.113328Z', 'files': [], 'num_outputs': 0}\n",
      "{'id': '3sm7tg7x79rme0cp5xsvbrxrm8', 'url': '/predictions/3sm7tg7x79rme0cp5xsvbrxrm8', 'model': 'slackroo/superme-sumanth-v1', 'version': '535caef9907be746cc55ccde50aa5eee85d8f987d11c8c4735d70a18d1e37f49', 'status': 'succeeded', 'created_at': '2025-04-13T14:00:52.794000Z', 'completed_at': '2025-04-13T14:01:08.113328Z', 'files': [], 'num_outputs': 0}\n",
      "{'id': '3nmym4d9k5rm80cp5xsvsnes6w', 'url': '/predictions/3nmym4d9k5rm80cp5xsvsnes6w', 'model': 'slackroo/superme-sumanth-v1', 'version': '535caef9907be746cc55ccde50aa5eee85d8f987d11c8c4735d70a18d1e37f49', 'status': 'succeeded', 'created_at': '2025-04-13T14:00:31.385000Z', 'completed_at': '2025-04-13T14:00:49.468570Z', 'files': [], 'num_outputs': 0}\n",
      "{'id': '3nmym4d9k5rm80cp5xsvsnes6w', 'url': '/predictions/3nmym4d9k5rm80cp5xsvsnes6w', 'model': 'slackroo/superme-sumanth-v1', 'version': '535caef9907be746cc55ccde50aa5eee85d8f987d11c8c4735d70a18d1e37f49', 'status': 'succeeded', 'created_at': '2025-04-13T14:00:31.385000Z', 'completed_at': '2025-04-13T14:00:49.468570Z', 'files': [], 'num_outputs': 0}\n",
      "{'id': '2vrkx12bx1rme0cp5xpt0z23jm', 'url': '/predictions/2vrkx12bx1rme0cp5xpt0z23jm', 'model': 'slackroo/superme-sumanth-v1', 'version': '535caef9907be746cc55ccde50aa5eee85d8f987d11c8c4735d70a18d1e37f49', 'status': 'succeeded', 'created_at': '2025-04-13T13:53:34.184000Z', 'completed_at': '2025-04-13T13:53:52.222856Z', 'files': [], 'num_outputs': 0}\n",
      "{'id': '2vrkx12bx1rme0cp5xpt0z23jm', 'url': '/predictions/2vrkx12bx1rme0cp5xpt0z23jm', 'model': 'slackroo/superme-sumanth-v1', 'version': '535caef9907be746cc55ccde50aa5eee85d8f987d11c8c4735d70a18d1e37f49', 'status': 'succeeded', 'created_at': '2025-04-13T13:53:34.184000Z', 'completed_at': '2025-04-13T13:53:52.222856Z', 'files': [], 'num_outputs': 0}\n",
      "{'id': '10hwn6gwzhrm80cp5ssr1eaagg', 'url': '/predictions/10hwn6gwzhrm80cp5ssr1eaagg', 'model': 'slackroo/superme-sumanth-v1', 'version': '535caef9907be746cc55ccde50aa5eee85d8f987d11c8c4735d70a18d1e37f49', 'status': 'succeeded', 'created_at': '2025-04-13T09:20:18.172000Z', 'completed_at': '2025-04-13T09:20:37.245851Z', 'files': [], 'num_outputs': 0}\n",
      "{'id': '10hwn6gwzhrm80cp5ssr1eaagg', 'url': '/predictions/10hwn6gwzhrm80cp5ssr1eaagg', 'model': 'slackroo/superme-sumanth-v1', 'version': '535caef9907be746cc55ccde50aa5eee85d8f987d11c8c4735d70a18d1e37f49', 'status': 'succeeded', 'created_at': '2025-04-13T09:20:18.172000Z', 'completed_at': '2025-04-13T09:20:37.245851Z', 'files': [], 'num_outputs': 0}\n",
      "{'id': '4q07zdt6wsrmc0cp58srbfs09g', 'url': '/predictions/4q07zdt6wsrmc0cp58srbfs09g', 'model': 'slackroo/superme-sumanth-v1', 'version': '535caef9907be746cc55ccde50aa5eee85d8f987d11c8c4735d70a18d1e37f49', 'status': 'succeeded', 'created_at': '2025-04-12T13:32:05.734000Z', 'completed_at': '2025-04-12T13:32:22.751928Z', 'files': [], 'num_outputs': 0}\n",
      "{'id': '4q07zdt6wsrmc0cp58srbfs09g', 'url': '/predictions/4q07zdt6wsrmc0cp58srbfs09g', 'model': 'slackroo/superme-sumanth-v1', 'version': '535caef9907be746cc55ccde50aa5eee85d8f987d11c8c4735d70a18d1e37f49', 'status': 'succeeded', 'created_at': '2025-04-12T13:32:05.734000Z', 'completed_at': '2025-04-12T13:32:22.751928Z', 'files': [], 'num_outputs': 0}\n",
      "{'id': 't7zrzh5qr5rma0cp57sr59knjw', 'url': '/predictions/t7zrzh5qr5rma0cp57sr59knjw', 'model': 'slackroo/superme-sumanth-v1', 'version': '535caef9907be746cc55ccde50aa5eee85d8f987d11c8c4735d70a18d1e37f49', 'status': 'succeeded', 'created_at': '2025-04-12T12:22:40.321000Z', 'completed_at': '2025-04-12T12:22:58.468396Z', 'files': [], 'num_outputs': 0}\n",
      "{'id': 't7zrzh5qr5rma0cp57sr59knjw', 'url': '/predictions/t7zrzh5qr5rma0cp57sr59knjw', 'model': 'slackroo/superme-sumanth-v1', 'version': '535caef9907be746cc55ccde50aa5eee85d8f987d11c8c4735d70a18d1e37f49', 'status': 'succeeded', 'created_at': '2025-04-12T12:22:40.321000Z', 'completed_at': '2025-04-12T12:22:58.468396Z', 'files': [], 'num_outputs': 0}\n",
      "{'id': 't7en608xqsrme0cp57r9d6zhkc', 'url': '/predictions/t7en608xqsrme0cp57r9d6zhkc', 'model': 'slackroo/superme-sumanth-v1', 'version': '535caef9907be746cc55ccde50aa5eee85d8f987d11c8c4735d70a18d1e37f49', 'status': 'succeeded', 'created_at': '2025-04-12T12:18:44.286000Z', 'completed_at': '2025-04-12T12:19:02.504609Z', 'files': [], 'num_outputs': 0}\n",
      "{'id': 't7en608xqsrme0cp57r9d6zhkc', 'url': '/predictions/t7en608xqsrme0cp57r9d6zhkc', 'model': 'slackroo/superme-sumanth-v1', 'version': '535caef9907be746cc55ccde50aa5eee85d8f987d11c8c4735d70a18d1e37f49', 'status': 'succeeded', 'created_at': '2025-04-12T12:18:44.286000Z', 'completed_at': '2025-04-12T12:19:02.504609Z', 'files': [], 'num_outputs': 0}\n",
      "{'id': 'hqz1bksqksrm80cp4j6t5kx7w8', 'url': '/predictions/hqz1bksqksrm80cp4j6t5kx7w8', 'model': 'slackroo/superme-sumanth-v1', 'version': '535caef9907be746cc55ccde50aa5eee85d8f987d11c8c4735d70a18d1e37f49', 'status': 'succeeded', 'created_at': '2025-04-11T11:12:36.766000Z', 'completed_at': '2025-04-11T11:12:54.471886Z', 'files': [], 'num_outputs': 0}\n",
      "{'id': 'hqz1bksqksrm80cp4j6t5kx7w8', 'url': '/predictions/hqz1bksqksrm80cp4j6t5kx7w8', 'model': 'slackroo/superme-sumanth-v1', 'version': '535caef9907be746cc55ccde50aa5eee85d8f987d11c8c4735d70a18d1e37f49', 'status': 'succeeded', 'created_at': '2025-04-11T11:12:36.766000Z', 'completed_at': '2025-04-11T11:12:54.471886Z', 'files': [], 'num_outputs': 0}\n",
      "{'id': 'vw3eb9ha2xrme0cp4hvv2ww40m', 'url': '/predictions/vw3eb9ha2xrme0cp4hvv2ww40m', 'model': 'slackroo/superme-sumanth-v1', 'version': '535caef9907be746cc55ccde50aa5eee85d8f987d11c8c4735d70a18d1e37f49', 'status': 'succeeded', 'created_at': '2025-04-11T10:48:31.511000Z', 'completed_at': '2025-04-11T10:49:02.701776Z', 'files': [], 'num_outputs': 0}\n",
      "{'id': 'vw3eb9ha2xrme0cp4hvv2ww40m', 'url': '/predictions/vw3eb9ha2xrme0cp4hvv2ww40m', 'model': 'slackroo/superme-sumanth-v1', 'version': '535caef9907be746cc55ccde50aa5eee85d8f987d11c8c4735d70a18d1e37f49', 'status': 'succeeded', 'created_at': '2025-04-11T10:48:31.511000Z', 'completed_at': '2025-04-11T10:49:02.701776Z', 'files': [], 'num_outputs': 0}\n",
      "{'id': 'aybewz4wj9rmc0cp4hv9tpq8k4', 'url': '/predictions/aybewz4wj9rmc0cp4hv9tpq8k4', 'model': 'slackroo/superme-sumanth-v1', 'version': '535caef9907be746cc55ccde50aa5eee85d8f987d11c8c4735d70a18d1e37f49', 'status': 'succeeded', 'created_at': '2025-04-11T10:47:55.282000Z', 'completed_at': '2025-04-11T10:48:30.431250Z', 'files': [], 'num_outputs': 0}\n",
      "{'id': 'aybewz4wj9rmc0cp4hv9tpq8k4', 'url': '/predictions/aybewz4wj9rmc0cp4hv9tpq8k4', 'model': 'slackroo/superme-sumanth-v1', 'version': '535caef9907be746cc55ccde50aa5eee85d8f987d11c8c4735d70a18d1e37f49', 'status': 'succeeded', 'created_at': '2025-04-11T10:47:55.282000Z', 'completed_at': '2025-04-11T10:48:30.431250Z', 'files': [], 'num_outputs': 0}\n",
      "{'id': '613cd85nzhrmc0cp4h993n3bcm', 'url': '/predictions/613cd85nzhrmc0cp4h993n3bcm', 'model': 'slackroo/superme-sumanth-v1', 'version': '535caef9907be746cc55ccde50aa5eee85d8f987d11c8c4735d70a18d1e37f49', 'status': 'succeeded', 'created_at': '2025-04-11T10:08:42.492000Z', 'completed_at': '2025-04-11T10:09:12.241801Z', 'files': [], 'num_outputs': 0}\n",
      "{'id': '613cd85nzhrmc0cp4h993n3bcm', 'url': '/predictions/613cd85nzhrmc0cp4h993n3bcm', 'model': 'slackroo/superme-sumanth-v1', 'version': '535caef9907be746cc55ccde50aa5eee85d8f987d11c8c4735d70a18d1e37f49', 'status': 'succeeded', 'created_at': '2025-04-11T10:08:42.492000Z', 'completed_at': '2025-04-11T10:09:12.241801Z', 'files': [], 'num_outputs': 0}\n",
      "{'id': 'kbknrnrvv9rme0cp4gztg0dx5g', 'url': '/predictions/kbknrnrvv9rme0cp4gztg0dx5g', 'model': 'slackroo/superme-sumanth-v1', 'version': '535caef9907be746cc55ccde50aa5eee85d8f987d11c8c4735d70a18d1e37f49', 'status': 'succeeded', 'created_at': '2025-04-11T09:47:17.850000Z', 'completed_at': '2025-04-11T09:47:27.932087Z', 'files': ['/predictions/kbknrnrvv9rme0cp4gztg0dx5g/files/0.webp'], 'num_outputs': 1}\n",
      "{'id': 'kbknrnrvv9rme0cp4gztg0dx5g', 'url': '/predictions/kbknrnrvv9rme0cp4gztg0dx5g', 'model': 'slackroo/superme-sumanth-v1', 'version': '535caef9907be746cc55ccde50aa5eee85d8f987d11c8c4735d70a18d1e37f49', 'status': 'succeeded', 'created_at': '2025-04-11T09:47:17.850000Z', 'completed_at': '2025-04-11T09:47:27.932087Z', 'files': ['/predictions/kbknrnrvv9rme0cp4gztg0dx5g/files/0.webp'], 'num_outputs': 1}\n",
      "{'id': 'jxv6vp0qa9rmc0cp3x887b186r', 'url': '/predictions/jxv6vp0qa9rmc0cp3x887b186r', 'model': 'slackroo/superme-sumanth-v1', 'version': '535caef9907be746cc55ccde50aa5eee85d8f987d11c8c4735d70a18d1e37f49', 'status': 'succeeded', 'created_at': '2025-04-10T10:47:44.722000Z', 'completed_at': '2025-04-10T10:47:52.948881Z', 'files': ['/predictions/jxv6vp0qa9rmc0cp3x887b186r/files/0.webp'], 'num_outputs': 1}\n",
      "{'id': 'jxv6vp0qa9rmc0cp3x887b186r', 'url': '/predictions/jxv6vp0qa9rmc0cp3x887b186r', 'model': 'slackroo/superme-sumanth-v1', 'version': '535caef9907be746cc55ccde50aa5eee85d8f987d11c8c4735d70a18d1e37f49', 'status': 'succeeded', 'created_at': '2025-04-10T10:47:44.722000Z', 'completed_at': '2025-04-10T10:47:52.948881Z', 'files': ['/predictions/jxv6vp0qa9rmc0cp3x887b186r/files/0.webp'], 'num_outputs': 1}\n",
      "{'id': '4htfe367c5rma0cp3x7vcb56k8', 'url': '/predictions/4htfe367c5rma0cp3x7vcb56k8', 'model': 'slackroo/superme-sumanth-v1', 'version': '535caef9907be746cc55ccde50aa5eee85d8f987d11c8c4735d70a18d1e37f49', 'status': 'succeeded', 'created_at': '2025-04-10T10:47:24.257000Z', 'completed_at': '2025-04-10T10:47:32.421840Z', 'files': ['/predictions/4htfe367c5rma0cp3x7vcb56k8/files/0.webp'], 'num_outputs': 1}\n",
      "{'id': '4htfe367c5rma0cp3x7vcb56k8', 'url': '/predictions/4htfe367c5rma0cp3x7vcb56k8', 'model': 'slackroo/superme-sumanth-v1', 'version': '535caef9907be746cc55ccde50aa5eee85d8f987d11c8c4735d70a18d1e37f49', 'status': 'succeeded', 'created_at': '2025-04-10T10:47:24.257000Z', 'completed_at': '2025-04-10T10:47:32.421840Z', 'files': ['/predictions/4htfe367c5rma0cp3x7vcb56k8/files/0.webp'], 'num_outputs': 1}\n",
      "{'id': 'fpn6c4sh2srma0cp3x7tzacm6r', 'url': '/predictions/fpn6c4sh2srma0cp3x7tzacm6r', 'model': 'slackroo/superme-sumanth-v1', 'version': '535caef9907be746cc55ccde50aa5eee85d8f987d11c8c4735d70a18d1e37f49', 'status': 'succeeded', 'created_at': '2025-04-10T10:46:45.782000Z', 'completed_at': '2025-04-10T10:46:53.951804Z', 'files': ['/predictions/fpn6c4sh2srma0cp3x7tzacm6r/files/0.webp'], 'num_outputs': 1}\n",
      "{'id': 'fpn6c4sh2srma0cp3x7tzacm6r', 'url': '/predictions/fpn6c4sh2srma0cp3x7tzacm6r', 'model': 'slackroo/superme-sumanth-v1', 'version': '535caef9907be746cc55ccde50aa5eee85d8f987d11c8c4735d70a18d1e37f49', 'status': 'succeeded', 'created_at': '2025-04-10T10:46:45.782000Z', 'completed_at': '2025-04-10T10:46:53.951804Z', 'files': ['/predictions/fpn6c4sh2srma0cp3x7tzacm6r/files/0.webp'], 'num_outputs': 1}\n",
      "{'id': 'g5c501yd99rme0cp3x79n2x8xm', 'url': '/predictions/g5c501yd99rme0cp3x79n2x8xm', 'model': 'slackroo/superme-sumanth-v1', 'version': '535caef9907be746cc55ccde50aa5eee85d8f987d11c8c4735d70a18d1e37f49', 'status': 'succeeded', 'created_at': '2025-04-10T10:46:20.234000Z', 'completed_at': '2025-04-10T10:46:30.333396Z', 'files': ['/predictions/g5c501yd99rme0cp3x79n2x8xm/files/0.webp'], 'num_outputs': 1}\n",
      "{'id': 'g5c501yd99rme0cp3x79n2x8xm', 'url': '/predictions/g5c501yd99rme0cp3x79n2x8xm', 'model': 'slackroo/superme-sumanth-v1', 'version': '535caef9907be746cc55ccde50aa5eee85d8f987d11c8c4735d70a18d1e37f49', 'status': 'succeeded', 'created_at': '2025-04-10T10:46:20.234000Z', 'completed_at': '2025-04-10T10:46:30.333396Z', 'files': ['/predictions/g5c501yd99rme0cp3x79n2x8xm/files/0.webp'], 'num_outputs': 1}\n",
      "{'id': 'bt5vaxaa0drmc0cp3x780edpzc', 'url': '/predictions/bt5vaxaa0drmc0cp3x780edpzc', 'model': 'slackroo/superme-sumanth-v1', 'version': '535caef9907be746cc55ccde50aa5eee85d8f987d11c8c4735d70a18d1e37f49', 'status': 'succeeded', 'created_at': '2025-04-10T10:45:46.627000Z', 'completed_at': '2025-04-10T10:45:55.123421Z', 'files': ['/predictions/bt5vaxaa0drmc0cp3x780edpzc/files/0.webp'], 'num_outputs': 1}\n",
      "{'id': 'bt5vaxaa0drmc0cp3x780edpzc', 'url': '/predictions/bt5vaxaa0drmc0cp3x780edpzc', 'model': 'slackroo/superme-sumanth-v1', 'version': '535caef9907be746cc55ccde50aa5eee85d8f987d11c8c4735d70a18d1e37f49', 'status': 'succeeded', 'created_at': '2025-04-10T10:45:46.627000Z', 'completed_at': '2025-04-10T10:45:55.123421Z', 'files': ['/predictions/bt5vaxaa0drmc0cp3x780edpzc/files/0.webp'], 'num_outputs': 1}\n",
      "{'id': 'azv4wbykyhrme0cp3x6t7jajh8', 'url': '/predictions/azv4wbykyhrme0cp3x6t7jajh8', 'model': 'slackroo/superme-sumanth-v1', 'version': '535caef9907be746cc55ccde50aa5eee85d8f987d11c8c4735d70a18d1e37f49', 'status': 'succeeded', 'created_at': '2025-04-10T10:45:16.404000Z', 'completed_at': '2025-04-10T10:45:26.153727Z', 'files': ['/predictions/azv4wbykyhrme0cp3x6t7jajh8/files/0.webp'], 'num_outputs': 1}\n",
      "{'id': 'azv4wbykyhrme0cp3x6t7jajh8', 'url': '/predictions/azv4wbykyhrme0cp3x6t7jajh8', 'model': 'slackroo/superme-sumanth-v1', 'version': '535caef9907be746cc55ccde50aa5eee85d8f987d11c8c4735d70a18d1e37f49', 'status': 'succeeded', 'created_at': '2025-04-10T10:45:16.404000Z', 'completed_at': '2025-04-10T10:45:26.153727Z', 'files': ['/predictions/azv4wbykyhrme0cp3x6t7jajh8/files/0.webp'], 'num_outputs': 1}\n",
      "{'id': 'rba373ce71rm80cp3x6s94f6x8', 'url': '/predictions/rba373ce71rm80cp3x6s94f6x8', 'model': 'slackroo/superme-sumanth-v1', 'version': '535caef9907be746cc55ccde50aa5eee85d8f987d11c8c4735d70a18d1e37f49', 'status': 'succeeded', 'created_at': '2025-04-10T10:44:58.552000Z', 'completed_at': '2025-04-10T10:45:06.767864Z', 'files': ['/predictions/rba373ce71rm80cp3x6s94f6x8/files/0.webp'], 'num_outputs': 1}\n",
      "{'id': 'rba373ce71rm80cp3x6s94f6x8', 'url': '/predictions/rba373ce71rm80cp3x6s94f6x8', 'model': 'slackroo/superme-sumanth-v1', 'version': '535caef9907be746cc55ccde50aa5eee85d8f987d11c8c4735d70a18d1e37f49', 'status': 'succeeded', 'created_at': '2025-04-10T10:44:58.552000Z', 'completed_at': '2025-04-10T10:45:06.767864Z', 'files': ['/predictions/rba373ce71rm80cp3x6s94f6x8/files/0.webp'], 'num_outputs': 1}\n",
      "{'id': 'km66eb8xk1rme0cp3x6txrm3a4', 'url': '/predictions/km66eb8xk1rme0cp3x6txrm3a4', 'model': 'slackroo/superme-sumanth-v1', 'version': '535caef9907be746cc55ccde50aa5eee85d8f987d11c8c4735d70a18d1e37f49', 'status': 'succeeded', 'created_at': '2025-04-10T10:44:29.720000Z', 'completed_at': '2025-04-10T10:44:37.833961Z', 'files': ['/predictions/km66eb8xk1rme0cp3x6txrm3a4/files/0.webp'], 'num_outputs': 1}\n",
      "{'id': 'km66eb8xk1rme0cp3x6txrm3a4', 'url': '/predictions/km66eb8xk1rme0cp3x6txrm3a4', 'model': 'slackroo/superme-sumanth-v1', 'version': '535caef9907be746cc55ccde50aa5eee85d8f987d11c8c4735d70a18d1e37f49', 'status': 'succeeded', 'created_at': '2025-04-10T10:44:29.720000Z', 'completed_at': '2025-04-10T10:44:37.833961Z', 'files': ['/predictions/km66eb8xk1rme0cp3x6txrm3a4/files/0.webp'], 'num_outputs': 1}\n",
      "{'id': 'jvv3nc745hrme0cp3x5a6ydddg', 'url': '/predictions/jvv3nc745hrme0cp3x5a6ydddg', 'model': 'slackroo/superme-sumanth-v1', 'version': '535caef9907be746cc55ccde50aa5eee85d8f987d11c8c4735d70a18d1e37f49', 'status': 'succeeded', 'created_at': '2025-04-10T10:42:03.948000Z', 'completed_at': '2025-04-10T10:42:10.525538Z', 'files': ['/predictions/jvv3nc745hrme0cp3x5a6ydddg/files/0.jpg'], 'num_outputs': 1}\n",
      "{'id': 'jvv3nc745hrme0cp3x5a6ydddg', 'url': '/predictions/jvv3nc745hrme0cp3x5a6ydddg', 'model': 'slackroo/superme-sumanth-v1', 'version': '535caef9907be746cc55ccde50aa5eee85d8f987d11c8c4735d70a18d1e37f49', 'status': 'succeeded', 'created_at': '2025-04-10T10:42:03.948000Z', 'completed_at': '2025-04-10T10:42:10.525538Z', 'files': ['/predictions/jvv3nc745hrme0cp3x5a6ydddg/files/0.jpg'], 'num_outputs': 1}\n",
      "{'id': 'v4dsvqksh1rm80cp3x5bgzrjcr', 'url': '/predictions/v4dsvqksh1rm80cp3x5bgzrjcr', 'model': 'slackroo/superme-sumanth-v1', 'version': '535caef9907be746cc55ccde50aa5eee85d8f987d11c8c4735d70a18d1e37f49', 'status': 'succeeded', 'created_at': '2025-04-10T10:41:36.648000Z', 'completed_at': '2025-04-10T10:41:41.261648Z', 'files': ['/predictions/v4dsvqksh1rm80cp3x5bgzrjcr/files/0.jpg'], 'num_outputs': 1}\n",
      "{'id': 'v4dsvqksh1rm80cp3x5bgzrjcr', 'url': '/predictions/v4dsvqksh1rm80cp3x5bgzrjcr', 'model': 'slackroo/superme-sumanth-v1', 'version': '535caef9907be746cc55ccde50aa5eee85d8f987d11c8c4735d70a18d1e37f49', 'status': 'succeeded', 'created_at': '2025-04-10T10:41:36.648000Z', 'completed_at': '2025-04-10T10:41:41.261648Z', 'files': ['/predictions/v4dsvqksh1rm80cp3x5bgzrjcr/files/0.jpg'], 'num_outputs': 1}\n",
      "{'id': '3vvnm822tsrmc0cp3x5az59f7r', 'url': '/predictions/3vvnm822tsrmc0cp3x5az59f7r', 'model': 'slackroo/superme-sumanth-v1', 'version': '535caef9907be746cc55ccde50aa5eee85d8f987d11c8c4735d70a18d1e37f49', 'status': 'succeeded', 'created_at': '2025-04-10T10:41:22.646000Z', 'completed_at': '2025-04-10T10:41:28.571956Z', 'files': ['/predictions/3vvnm822tsrmc0cp3x5az59f7r/files/0.jpg'], 'num_outputs': 1}\n",
      "{'id': '3vvnm822tsrmc0cp3x5az59f7r', 'url': '/predictions/3vvnm822tsrmc0cp3x5az59f7r', 'model': 'slackroo/superme-sumanth-v1', 'version': '535caef9907be746cc55ccde50aa5eee85d8f987d11c8c4735d70a18d1e37f49', 'status': 'succeeded', 'created_at': '2025-04-10T10:41:22.646000Z', 'completed_at': '2025-04-10T10:41:28.571956Z', 'files': ['/predictions/3vvnm822tsrmc0cp3x5az59f7r/files/0.jpg'], 'num_outputs': 1}\n",
      "{'id': 'mjgswjfz7nrme0cp3x4re2hs0c', 'url': '/predictions/mjgswjfz7nrme0cp3x4re2hs0c', 'model': 'slackroo/superme-sumanth-v1', 'version': '535caef9907be746cc55ccde50aa5eee85d8f987d11c8c4735d70a18d1e37f49', 'status': 'succeeded', 'created_at': '2025-04-10T10:41:05.341000Z', 'completed_at': '2025-04-10T10:41:14.000106Z', 'files': ['/predictions/mjgswjfz7nrme0cp3x4re2hs0c/files/0.jpg'], 'num_outputs': 1}\n",
      "{'id': 'mjgswjfz7nrme0cp3x4re2hs0c', 'url': '/predictions/mjgswjfz7nrme0cp3x4re2hs0c', 'model': 'slackroo/superme-sumanth-v1', 'version': '535caef9907be746cc55ccde50aa5eee85d8f987d11c8c4735d70a18d1e37f49', 'status': 'succeeded', 'created_at': '2025-04-10T10:41:05.341000Z', 'completed_at': '2025-04-10T10:41:14.000106Z', 'files': ['/predictions/mjgswjfz7nrme0cp3x4re2hs0c/files/0.jpg'], 'num_outputs': 1}\n",
      "{'id': 'cwqgfg6tssrmc0cp3x4r3j92y0', 'url': '/predictions/cwqgfg6tssrmc0cp3x4r3j92y0', 'model': 'slackroo/superme-sumanth-v1', 'version': '535caef9907be746cc55ccde50aa5eee85d8f987d11c8c4735d70a18d1e37f49', 'status': 'succeeded', 'created_at': '2025-04-10T10:40:56.014000Z', 'completed_at': '2025-04-10T10:41:01.075510Z', 'files': ['/predictions/cwqgfg6tssrmc0cp3x4r3j92y0/files/0.jpg'], 'num_outputs': 1}\n",
      "{'id': 'cwqgfg6tssrmc0cp3x4r3j92y0', 'url': '/predictions/cwqgfg6tssrmc0cp3x4r3j92y0', 'model': 'slackroo/superme-sumanth-v1', 'version': '535caef9907be746cc55ccde50aa5eee85d8f987d11c8c4735d70a18d1e37f49', 'status': 'succeeded', 'created_at': '2025-04-10T10:40:56.014000Z', 'completed_at': '2025-04-10T10:41:01.075510Z', 'files': ['/predictions/cwqgfg6tssrmc0cp3x4r3j92y0/files/0.jpg'], 'num_outputs': 1}\n",
      "{'id': '22qf0gn33srm80cp3x4vgdc70c', 'url': '/predictions/22qf0gn33srm80cp3x4vgdc70c', 'model': 'slackroo/superme-sumanth-v1', 'version': '535caef9907be746cc55ccde50aa5eee85d8f987d11c8c4735d70a18d1e37f49', 'status': 'succeeded', 'created_at': '2025-04-10T10:40:41.758000Z', 'completed_at': '2025-04-10T10:40:47.250376Z', 'files': ['/predictions/22qf0gn33srm80cp3x4vgdc70c/files/0.jpg'], 'num_outputs': 1}\n",
      "{'id': '22qf0gn33srm80cp3x4vgdc70c', 'url': '/predictions/22qf0gn33srm80cp3x4vgdc70c', 'model': 'slackroo/superme-sumanth-v1', 'version': '535caef9907be746cc55ccde50aa5eee85d8f987d11c8c4735d70a18d1e37f49', 'status': 'succeeded', 'created_at': '2025-04-10T10:40:41.758000Z', 'completed_at': '2025-04-10T10:40:47.250376Z', 'files': ['/predictions/22qf0gn33srm80cp3x4vgdc70c/files/0.jpg'], 'num_outputs': 1}\n",
      "{'id': '102cppkvb5rmc0cp3x4va515vc', 'url': '/predictions/102cppkvb5rmc0cp3x4va515vc', 'model': 'slackroo/superme-sumanth-v1', 'version': '535caef9907be746cc55ccde50aa5eee85d8f987d11c8c4735d70a18d1e37f49', 'status': 'succeeded', 'created_at': '2025-04-10T10:40:31.577000Z', 'completed_at': '2025-04-10T10:40:38.211084Z', 'files': ['/predictions/102cppkvb5rmc0cp3x4va515vc/files/0.jpg'], 'num_outputs': 1}\n",
      "{'id': '102cppkvb5rmc0cp3x4va515vc', 'url': '/predictions/102cppkvb5rmc0cp3x4va515vc', 'model': 'slackroo/superme-sumanth-v1', 'version': '535caef9907be746cc55ccde50aa5eee85d8f987d11c8c4735d70a18d1e37f49', 'status': 'succeeded', 'created_at': '2025-04-10T10:40:31.577000Z', 'completed_at': '2025-04-10T10:40:38.211084Z', 'files': ['/predictions/102cppkvb5rmc0cp3x4va515vc/files/0.jpg'], 'num_outputs': 1}\n",
      "{'id': 'nmmjf7swm5rma0cp3x4tyjy9kc', 'url': '/predictions/nmmjf7swm5rma0cp3x4tyjy9kc', 'model': 'slackroo/superme-sumanth-v1', 'version': '535caef9907be746cc55ccde50aa5eee85d8f987d11c8c4735d70a18d1e37f49', 'status': 'succeeded', 'created_at': '2025-04-10T10:40:15.521000Z', 'completed_at': '2025-04-10T10:40:23.846770Z', 'files': ['/predictions/nmmjf7swm5rma0cp3x4tyjy9kc/files/0.jpg'], 'num_outputs': 1}\n",
      "{'id': 'nmmjf7swm5rma0cp3x4tyjy9kc', 'url': '/predictions/nmmjf7swm5rma0cp3x4tyjy9kc', 'model': 'slackroo/superme-sumanth-v1', 'version': '535caef9907be746cc55ccde50aa5eee85d8f987d11c8c4735d70a18d1e37f49', 'status': 'succeeded', 'created_at': '2025-04-10T10:40:15.521000Z', 'completed_at': '2025-04-10T10:40:23.846770Z', 'files': ['/predictions/nmmjf7swm5rma0cp3x4tyjy9kc/files/0.jpg'], 'num_outputs': 1}\n",
      "{'id': 'mqs0tyd899rm80cp3x4b0mh2kg', 'url': '/predictions/mqs0tyd899rm80cp3x4b0mh2kg', 'model': 'slackroo/superme-sumanth-v1', 'version': '535caef9907be746cc55ccde50aa5eee85d8f987d11c8c4735d70a18d1e37f49', 'status': 'succeeded', 'created_at': '2025-04-10T10:39:37.546000Z', 'completed_at': '2025-04-10T10:39:47.500075Z', 'files': ['/predictions/mqs0tyd899rm80cp3x4b0mh2kg/files/0.jpg'], 'num_outputs': 1}\n",
      "{'id': 'mqs0tyd899rm80cp3x4b0mh2kg', 'url': '/predictions/mqs0tyd899rm80cp3x4b0mh2kg', 'model': 'slackroo/superme-sumanth-v1', 'version': '535caef9907be746cc55ccde50aa5eee85d8f987d11c8c4735d70a18d1e37f49', 'status': 'succeeded', 'created_at': '2025-04-10T10:39:37.546000Z', 'completed_at': '2025-04-10T10:39:47.500075Z', 'files': ['/predictions/mqs0tyd899rm80cp3x4b0mh2kg/files/0.jpg'], 'num_outputs': 1}\n",
      "{'id': 'p1r2qkapvsrme0cp3x4b2m7x94', 'url': '/predictions/p1r2qkapvsrme0cp3x4b2m7x94', 'model': 'slackroo/superme-sumanth-v1', 'version': '535caef9907be746cc55ccde50aa5eee85d8f987d11c8c4735d70a18d1e37f49', 'status': 'succeeded', 'created_at': '2025-04-10T10:39:16.702000Z', 'completed_at': '2025-04-10T10:39:24.405494Z', 'files': ['/predictions/p1r2qkapvsrme0cp3x4b2m7x94/files/0.jpg'], 'num_outputs': 1}\n",
      "{'id': 'p1r2qkapvsrme0cp3x4b2m7x94', 'url': '/predictions/p1r2qkapvsrme0cp3x4b2m7x94', 'model': 'slackroo/superme-sumanth-v1', 'version': '535caef9907be746cc55ccde50aa5eee85d8f987d11c8c4735d70a18d1e37f49', 'status': 'succeeded', 'created_at': '2025-04-10T10:39:16.702000Z', 'completed_at': '2025-04-10T10:39:24.405494Z', 'files': ['/predictions/p1r2qkapvsrme0cp3x4b2m7x94/files/0.jpg'], 'num_outputs': 1}\n",
      "{'id': '2a5qjdqh59rmc0cp3x3vfz34w8', 'url': '/predictions/2a5qjdqh59rmc0cp3x3vfz34w8', 'model': 'slackroo/superme-sumanth-v1', 'version': '535caef9907be746cc55ccde50aa5eee85d8f987d11c8c4735d70a18d1e37f49', 'status': 'succeeded', 'created_at': '2025-04-10T10:38:50.666000Z', 'completed_at': '2025-04-10T10:39:01.325500Z', 'files': ['/predictions/2a5qjdqh59rmc0cp3x3vfz34w8/files/0.jpg'], 'num_outputs': 1}\n",
      "{'id': '2a5qjdqh59rmc0cp3x3vfz34w8', 'url': '/predictions/2a5qjdqh59rmc0cp3x3vfz34w8', 'model': 'slackroo/superme-sumanth-v1', 'version': '535caef9907be746cc55ccde50aa5eee85d8f987d11c8c4735d70a18d1e37f49', 'status': 'succeeded', 'created_at': '2025-04-10T10:38:50.666000Z', 'completed_at': '2025-04-10T10:39:01.325500Z', 'files': ['/predictions/2a5qjdqh59rmc0cp3x3vfz34w8/files/0.jpg'], 'num_outputs': 1}\n",
      "{'id': '7crjgmdjn1rme0cp3x3rqmxsdc', 'url': '/predictions/7crjgmdjn1rme0cp3x3rqmxsdc', 'model': 'slackroo/superme-sumanth-v1', 'version': '535caef9907be746cc55ccde50aa5eee85d8f987d11c8c4735d70a18d1e37f49', 'status': 'succeeded', 'created_at': '2025-04-10T10:38:34.664000Z', 'completed_at': '2025-04-10T10:38:43.981412Z', 'files': ['/predictions/7crjgmdjn1rme0cp3x3rqmxsdc/files/0.jpg'], 'num_outputs': 1}\n",
      "{'id': '7crjgmdjn1rme0cp3x3rqmxsdc', 'url': '/predictions/7crjgmdjn1rme0cp3x3rqmxsdc', 'model': 'slackroo/superme-sumanth-v1', 'version': '535caef9907be746cc55ccde50aa5eee85d8f987d11c8c4735d70a18d1e37f49', 'status': 'succeeded', 'created_at': '2025-04-10T10:38:34.664000Z', 'completed_at': '2025-04-10T10:38:43.981412Z', 'files': ['/predictions/7crjgmdjn1rme0cp3x3rqmxsdc/files/0.jpg'], 'num_outputs': 1}\n",
      "{'id': 'z49nmeat8nrm80cp3x3sfp24w8', 'url': '/predictions/z49nmeat8nrm80cp3x3sfp24w8', 'model': 'slackroo/superme-sumanth-v1', 'version': '535caef9907be746cc55ccde50aa5eee85d8f987d11c8c4735d70a18d1e37f49', 'status': 'succeeded', 'created_at': '2025-04-10T10:38:12.037000Z', 'completed_at': '2025-04-10T10:38:21.786872Z', 'files': ['/predictions/z49nmeat8nrm80cp3x3sfp24w8/files/0.jpg'], 'num_outputs': 1}\n",
      "{'id': 'z49nmeat8nrm80cp3x3sfp24w8', 'url': '/predictions/z49nmeat8nrm80cp3x3sfp24w8', 'model': 'slackroo/superme-sumanth-v1', 'version': '535caef9907be746cc55ccde50aa5eee85d8f987d11c8c4735d70a18d1e37f49', 'status': 'succeeded', 'created_at': '2025-04-10T10:38:12.037000Z', 'completed_at': '2025-04-10T10:38:21.786872Z', 'files': ['/predictions/z49nmeat8nrm80cp3x3sfp24w8/files/0.jpg'], 'num_outputs': 1}\n",
      "{'id': 'y9z941g0g1rm80cp3x3sxga6q8', 'url': '/predictions/y9z941g0g1rm80cp3x3sxga6q8', 'model': 'slackroo/superme-sumanth-v1', 'version': '535caef9907be746cc55ccde50aa5eee85d8f987d11c8c4735d70a18d1e37f49', 'status': 'succeeded', 'created_at': '2025-04-10T10:37:49.056000Z', 'completed_at': '2025-04-10T10:37:56.745321Z', 'files': ['/predictions/y9z941g0g1rm80cp3x3sxga6q8/files/0.jpg'], 'num_outputs': 1}\n",
      "{'id': 'y9z941g0g1rm80cp3x3sxga6q8', 'url': '/predictions/y9z941g0g1rm80cp3x3sxga6q8', 'model': 'slackroo/superme-sumanth-v1', 'version': '535caef9907be746cc55ccde50aa5eee85d8f987d11c8c4735d70a18d1e37f49', 'status': 'succeeded', 'created_at': '2025-04-10T10:37:49.056000Z', 'completed_at': '2025-04-10T10:37:56.745321Z', 'files': ['/predictions/y9z941g0g1rm80cp3x3sxga6q8/files/0.jpg'], 'num_outputs': 1}\n",
      "{'id': '6v44wvmq0hrmc0cp3x3bzgb5w8', 'url': '/predictions/6v44wvmq0hrmc0cp3x3bzgb5w8', 'model': 'slackroo/superme-sumanth-v1', 'version': '535caef9907be746cc55ccde50aa5eee85d8f987d11c8c4735d70a18d1e37f49', 'status': 'succeeded', 'created_at': '2025-04-10T10:37:22.052000Z', 'completed_at': '2025-04-10T10:37:31.757952Z', 'files': ['/predictions/6v44wvmq0hrmc0cp3x3bzgb5w8/files/0.jpg'], 'num_outputs': 1}\n",
      "{'id': '6v44wvmq0hrmc0cp3x3bzgb5w8', 'url': '/predictions/6v44wvmq0hrmc0cp3x3bzgb5w8', 'model': 'slackroo/superme-sumanth-v1', 'version': '535caef9907be746cc55ccde50aa5eee85d8f987d11c8c4735d70a18d1e37f49', 'status': 'succeeded', 'created_at': '2025-04-10T10:37:22.052000Z', 'completed_at': '2025-04-10T10:37:31.757952Z', 'files': ['/predictions/6v44wvmq0hrmc0cp3x3bzgb5w8/files/0.jpg'], 'num_outputs': 1}\n",
      "{'id': 'ssdtwm2ge9rme0cp3x38rg8z2c', 'url': '/predictions/ssdtwm2ge9rme0cp3x38rg8z2c', 'model': 'slackroo/superme-sumanth-v1', 'version': '535caef9907be746cc55ccde50aa5eee85d8f987d11c8c4735d70a18d1e37f49', 'status': 'succeeded', 'created_at': '2025-04-10T10:37:03.986000Z', 'completed_at': '2025-04-10T10:37:14.906978Z', 'files': ['/predictions/ssdtwm2ge9rme0cp3x38rg8z2c/files/0.jpg'], 'num_outputs': 1}\n",
      "{'id': 'ssdtwm2ge9rme0cp3x38rg8z2c', 'url': '/predictions/ssdtwm2ge9rme0cp3x38rg8z2c', 'model': 'slackroo/superme-sumanth-v1', 'version': '535caef9907be746cc55ccde50aa5eee85d8f987d11c8c4735d70a18d1e37f49', 'status': 'succeeded', 'created_at': '2025-04-10T10:37:03.986000Z', 'completed_at': '2025-04-10T10:37:14.906978Z', 'files': ['/predictions/ssdtwm2ge9rme0cp3x38rg8z2c/files/0.jpg'], 'num_outputs': 1}\n",
      "{'id': '4mhbdfz5tnrme0cp3x2sr6t6cr', 'url': '/predictions/4mhbdfz5tnrme0cp3x2sr6t6cr', 'model': 'slackroo/superme-sumanth-v1', 'version': '535caef9907be746cc55ccde50aa5eee85d8f987d11c8c4735d70a18d1e37f49', 'status': 'succeeded', 'created_at': '2025-04-10T10:36:36.693000Z', 'completed_at': '2025-04-10T10:36:46.362655Z', 'files': ['/predictions/4mhbdfz5tnrme0cp3x2sr6t6cr/files/0.jpg'], 'num_outputs': 1}\n",
      "{'id': '4mhbdfz5tnrme0cp3x2sr6t6cr', 'url': '/predictions/4mhbdfz5tnrme0cp3x2sr6t6cr', 'model': 'slackroo/superme-sumanth-v1', 'version': '535caef9907be746cc55ccde50aa5eee85d8f987d11c8c4735d70a18d1e37f49', 'status': 'succeeded', 'created_at': '2025-04-10T10:36:36.693000Z', 'completed_at': '2025-04-10T10:36:46.362655Z', 'files': ['/predictions/4mhbdfz5tnrme0cp3x2sr6t6cr/files/0.jpg'], 'num_outputs': 1}\n",
      "{'id': '2waxx9f5m9rme0cp3x2svwyd74', 'url': '/predictions/2waxx9f5m9rme0cp3x2svwyd74', 'model': 'slackroo/superme-sumanth-v1', 'version': '535caef9907be746cc55ccde50aa5eee85d8f987d11c8c4735d70a18d1e37f49', 'status': 'succeeded', 'created_at': '2025-04-10T10:36:36.642000Z', 'completed_at': '2025-04-10T10:36:49.456239Z', 'files': ['/predictions/2waxx9f5m9rme0cp3x2svwyd74/files/0.jpg'], 'num_outputs': 1}\n",
      "{'id': '2waxx9f5m9rme0cp3x2svwyd74', 'url': '/predictions/2waxx9f5m9rme0cp3x2svwyd74', 'model': 'slackroo/superme-sumanth-v1', 'version': '535caef9907be746cc55ccde50aa5eee85d8f987d11c8c4735d70a18d1e37f49', 'status': 'succeeded', 'created_at': '2025-04-10T10:36:36.642000Z', 'completed_at': '2025-04-10T10:36:49.456239Z', 'files': ['/predictions/2waxx9f5m9rme0cp3x2svwyd74/files/0.jpg'], 'num_outputs': 1}\n",
      "{'id': '67tmbbv9bxrm80cp3x2r3btdz4', 'url': '/predictions/67tmbbv9bxrm80cp3x2r3btdz4', 'model': 'slackroo/superme-sumanth-v1', 'version': '535caef9907be746cc55ccde50aa5eee85d8f987d11c8c4735d70a18d1e37f49', 'status': 'succeeded', 'created_at': '2025-04-10T10:36:04.831000Z', 'completed_at': '2025-04-10T10:36:14.499523Z', 'files': ['/predictions/67tmbbv9bxrm80cp3x2r3btdz4/files/0.jpg'], 'num_outputs': 1}\n",
      "{'id': '67tmbbv9bxrm80cp3x2r3btdz4', 'url': '/predictions/67tmbbv9bxrm80cp3x2r3btdz4', 'model': 'slackroo/superme-sumanth-v1', 'version': '535caef9907be746cc55ccde50aa5eee85d8f987d11c8c4735d70a18d1e37f49', 'status': 'succeeded', 'created_at': '2025-04-10T10:36:04.831000Z', 'completed_at': '2025-04-10T10:36:14.499523Z', 'files': ['/predictions/67tmbbv9bxrm80cp3x2r3btdz4/files/0.jpg'], 'num_outputs': 1}\n",
      "{'id': 'prk38z7b2nrma0cp3x2b9zk1g8', 'url': '/predictions/prk38z7b2nrma0cp3x2b9zk1g8', 'model': 'slackroo/superme-sumanth-v1', 'version': '535caef9907be746cc55ccde50aa5eee85d8f987d11c8c4735d70a18d1e37f49', 'status': 'succeeded', 'created_at': '2025-04-10T10:35:32.501000Z', 'completed_at': '2025-04-10T10:35:52.699213Z', 'files': ['/predictions/prk38z7b2nrma0cp3x2b9zk1g8/files/0.jpg'], 'num_outputs': 1}\n",
      "{'id': 'prk38z7b2nrma0cp3x2b9zk1g8', 'url': '/predictions/prk38z7b2nrma0cp3x2b9zk1g8', 'model': 'slackroo/superme-sumanth-v1', 'version': '535caef9907be746cc55ccde50aa5eee85d8f987d11c8c4735d70a18d1e37f49', 'status': 'succeeded', 'created_at': '2025-04-10T10:35:32.501000Z', 'completed_at': '2025-04-10T10:35:52.699213Z', 'files': ['/predictions/prk38z7b2nrma0cp3x2b9zk1g8/files/0.jpg'], 'num_outputs': 1}\n",
      "{'id': 'gfwgr12h35rm80cp3x2bcpg274', 'url': '/predictions/gfwgr12h35rm80cp3x2bcpg274', 'model': 'slackroo/superme-sumanth-v1', 'version': '535caef9907be746cc55ccde50aa5eee85d8f987d11c8c4735d70a18d1e37f49', 'status': 'succeeded', 'created_at': '2025-04-10T10:34:53.081000Z', 'completed_at': '2025-04-10T10:35:17.308941Z', 'files': ['/predictions/gfwgr12h35rm80cp3x2bcpg274/files/0.jpg'], 'num_outputs': 1}\n",
      "{'id': 'gfwgr12h35rm80cp3x2bcpg274', 'url': '/predictions/gfwgr12h35rm80cp3x2bcpg274', 'model': 'slackroo/superme-sumanth-v1', 'version': '535caef9907be746cc55ccde50aa5eee85d8f987d11c8c4735d70a18d1e37f49', 'status': 'succeeded', 'created_at': '2025-04-10T10:34:53.081000Z', 'completed_at': '2025-04-10T10:35:17.308941Z', 'files': ['/predictions/gfwgr12h35rm80cp3x2bcpg274/files/0.jpg'], 'num_outputs': 1}\n",
      "{'id': 'bt2gw8cyt9rm80cp3x1tv92ja4', 'url': '/predictions/bt2gw8cyt9rm80cp3x1tv92ja4', 'model': 'slackroo/superme-sumanth-v1', 'version': '535caef9907be746cc55ccde50aa5eee85d8f987d11c8c4735d70a18d1e37f49', 'status': 'succeeded', 'created_at': '2025-04-10T10:34:07.442000Z', 'completed_at': '2025-04-10T10:34:22.742812Z', 'files': ['/predictions/bt2gw8cyt9rm80cp3x1tv92ja4/files/0.jpg'], 'num_outputs': 1}\n",
      "{'id': 'bt2gw8cyt9rm80cp3x1tv92ja4', 'url': '/predictions/bt2gw8cyt9rm80cp3x1tv92ja4', 'model': 'slackroo/superme-sumanth-v1', 'version': '535caef9907be746cc55ccde50aa5eee85d8f987d11c8c4735d70a18d1e37f49', 'status': 'succeeded', 'created_at': '2025-04-10T10:34:07.442000Z', 'completed_at': '2025-04-10T10:34:22.742812Z', 'files': ['/predictions/bt2gw8cyt9rm80cp3x1tv92ja4/files/0.jpg'], 'num_outputs': 1}\n",
      "{'id': 'qdwsy8htp1rma0cp3x1s7tgm9m', 'url': '/predictions/qdwsy8htp1rma0cp3x1s7tgm9m', 'model': 'slackroo/superme-sumanth-v1', 'version': '535caef9907be746cc55ccde50aa5eee85d8f987d11c8c4735d70a18d1e37f49', 'status': 'succeeded', 'created_at': '2025-04-10T10:33:41.808000Z', 'completed_at': '2025-04-10T10:33:51.415848Z', 'files': ['/predictions/qdwsy8htp1rma0cp3x1s7tgm9m/files/0.jpg'], 'num_outputs': 1}\n",
      "{'id': 'qdwsy8htp1rma0cp3x1s7tgm9m', 'url': '/predictions/qdwsy8htp1rma0cp3x1s7tgm9m', 'model': 'slackroo/superme-sumanth-v1', 'version': '535caef9907be746cc55ccde50aa5eee85d8f987d11c8c4735d70a18d1e37f49', 'status': 'succeeded', 'created_at': '2025-04-10T10:33:41.808000Z', 'completed_at': '2025-04-10T10:33:51.415848Z', 'files': ['/predictions/qdwsy8htp1rma0cp3x1s7tgm9m/files/0.jpg'], 'num_outputs': 1}\n",
      "{'id': '1gk7hg7m7xrmc0cp3x1axe93tw', 'url': '/predictions/1gk7hg7m7xrmc0cp3x1axe93tw', 'model': 'slackroo/superme-sumanth-v1', 'version': '535caef9907be746cc55ccde50aa5eee85d8f987d11c8c4735d70a18d1e37f49', 'status': 'succeeded', 'created_at': '2025-04-10T10:33:23.775000Z', 'completed_at': '2025-04-10T10:33:36.947483Z', 'files': ['/predictions/1gk7hg7m7xrmc0cp3x1axe93tw/files/0.jpg'], 'num_outputs': 1}\n",
      "{'id': '1gk7hg7m7xrmc0cp3x1axe93tw', 'url': '/predictions/1gk7hg7m7xrmc0cp3x1axe93tw', 'model': 'slackroo/superme-sumanth-v1', 'version': '535caef9907be746cc55ccde50aa5eee85d8f987d11c8c4735d70a18d1e37f49', 'status': 'succeeded', 'created_at': '2025-04-10T10:33:23.775000Z', 'completed_at': '2025-04-10T10:33:36.947483Z', 'files': ['/predictions/1gk7hg7m7xrmc0cp3x1axe93tw/files/0.jpg'], 'num_outputs': 1}\n",
      "{'id': 'p25n342sj1rma0cp3x0t2e9qxg', 'url': '/predictions/p25n342sj1rma0cp3x0t2e9qxg', 'model': 'slackroo/superme-sumanth-v1', 'version': '535caef9907be746cc55ccde50aa5eee85d8f987d11c8c4735d70a18d1e37f49', 'status': 'succeeded', 'created_at': '2025-04-10T10:31:38.640000Z', 'completed_at': '2025-04-10T10:32:07.014806Z', 'files': ['/predictions/p25n342sj1rma0cp3x0t2e9qxg/files/0.jpg', '/predictions/p25n342sj1rma0cp3x0t2e9qxg/files/1.jpg'], 'num_outputs': 2}\n",
      "{'id': 'p25n342sj1rma0cp3x0t2e9qxg', 'url': '/predictions/p25n342sj1rma0cp3x0t2e9qxg', 'model': 'slackroo/superme-sumanth-v1', 'version': '535caef9907be746cc55ccde50aa5eee85d8f987d11c8c4735d70a18d1e37f49', 'status': 'succeeded', 'created_at': '2025-04-10T10:31:38.640000Z', 'completed_at': '2025-04-10T10:32:07.014806Z', 'files': ['/predictions/p25n342sj1rma0cp3x0t2e9qxg/files/0.jpg', '/predictions/p25n342sj1rma0cp3x0t2e9qxg/files/1.jpg'], 'num_outputs': 2}\n",
      "{'id': '7b803qj77hrm80cp3x0bn1dzg4', 'url': '/predictions/7b803qj77hrm80cp3x0bn1dzg4', 'model': 'slackroo/superme-sumanth-v1', 'version': '535caef9907be746cc55ccde50aa5eee85d8f987d11c8c4735d70a18d1e37f49', 'status': 'succeeded', 'created_at': '2025-04-10T10:30:28.412000Z', 'completed_at': '2025-04-10T10:30:46.383208Z', 'files': ['/predictions/7b803qj77hrm80cp3x0bn1dzg4/files/0.jpg', '/predictions/7b803qj77hrm80cp3x0bn1dzg4/files/1.jpg'], 'num_outputs': 2}\n",
      "{'id': '7b803qj77hrm80cp3x0bn1dzg4', 'url': '/predictions/7b803qj77hrm80cp3x0bn1dzg4', 'model': 'slackroo/superme-sumanth-v1', 'version': '535caef9907be746cc55ccde50aa5eee85d8f987d11c8c4735d70a18d1e37f49', 'status': 'succeeded', 'created_at': '2025-04-10T10:30:28.412000Z', 'completed_at': '2025-04-10T10:30:46.383208Z', 'files': ['/predictions/7b803qj77hrm80cp3x0bn1dzg4/files/0.jpg', '/predictions/7b803qj77hrm80cp3x0bn1dzg4/files/1.jpg'], 'num_outputs': 2}\n",
      "{'id': 'k238h5zygdrma0cp3wztx5tdag', 'url': '/predictions/k238h5zygdrma0cp3wztx5tdag', 'model': 'slackroo/superme-sumanth-v1', 'version': '535caef9907be746cc55ccde50aa5eee85d8f987d11c8c4735d70a18d1e37f49', 'status': 'succeeded', 'created_at': '2025-04-10T10:30:09.795000Z', 'completed_at': '2025-04-10T10:30:14.933077Z', 'files': ['/predictions/k238h5zygdrma0cp3wztx5tdag/files/0.jpg', '/predictions/k238h5zygdrma0cp3wztx5tdag/files/1.jpg'], 'num_outputs': 2}\n",
      "{'id': 'k238h5zygdrma0cp3wztx5tdag', 'url': '/predictions/k238h5zygdrma0cp3wztx5tdag', 'model': 'slackroo/superme-sumanth-v1', 'version': '535caef9907be746cc55ccde50aa5eee85d8f987d11c8c4735d70a18d1e37f49', 'status': 'succeeded', 'created_at': '2025-04-10T10:30:09.795000Z', 'completed_at': '2025-04-10T10:30:14.933077Z', 'files': ['/predictions/k238h5zygdrma0cp3wztx5tdag/files/0.jpg', '/predictions/k238h5zygdrma0cp3wztx5tdag/files/1.jpg'], 'num_outputs': 2}\n",
      "{'id': '9ys691p701rma0cp3wztymv2tr', 'url': '/predictions/9ys691p701rma0cp3wztymv2tr', 'model': 'slackroo/superme-sumanth-v1', 'version': '535caef9907be746cc55ccde50aa5eee85d8f987d11c8c4735d70a18d1e37f49', 'status': 'succeeded', 'created_at': '2025-04-10T10:29:55.584000Z', 'completed_at': '2025-04-10T10:29:59.339474Z', 'files': ['/predictions/9ys691p701rma0cp3wztymv2tr/files/0.jpg', '/predictions/9ys691p701rma0cp3wztymv2tr/files/1.jpg'], 'num_outputs': 2}\n",
      "{'id': '9ys691p701rma0cp3wztymv2tr', 'url': '/predictions/9ys691p701rma0cp3wztymv2tr', 'model': 'slackroo/superme-sumanth-v1', 'version': '535caef9907be746cc55ccde50aa5eee85d8f987d11c8c4735d70a18d1e37f49', 'status': 'succeeded', 'created_at': '2025-04-10T10:29:55.584000Z', 'completed_at': '2025-04-10T10:29:59.339474Z', 'files': ['/predictions/9ys691p701rma0cp3wztymv2tr/files/0.jpg', '/predictions/9ys691p701rma0cp3wztymv2tr/files/1.jpg'], 'num_outputs': 2}\n",
      "{'id': 'kwzjeaq999rm80cp3wzbnrpekr', 'url': '/predictions/kwzjeaq999rm80cp3wzbnrpekr', 'model': 'slackroo/superme-sumanth-v1', 'version': '535caef9907be746cc55ccde50aa5eee85d8f987d11c8c4735d70a18d1e37f49', 'status': 'succeeded', 'created_at': '2025-04-10T10:28:58.826000Z', 'completed_at': '2025-04-10T10:29:19.546568Z', 'files': ['/predictions/kwzjeaq999rm80cp3wzbnrpekr/files/0.jpg', '/predictions/kwzjeaq999rm80cp3wzbnrpekr/files/1.jpg'], 'num_outputs': 2}\n",
      "{'id': 'kwzjeaq999rm80cp3wzbnrpekr', 'url': '/predictions/kwzjeaq999rm80cp3wzbnrpekr', 'model': 'slackroo/superme-sumanth-v1', 'version': '535caef9907be746cc55ccde50aa5eee85d8f987d11c8c4735d70a18d1e37f49', 'status': 'succeeded', 'created_at': '2025-04-10T10:28:58.826000Z', 'completed_at': '2025-04-10T10:29:19.546568Z', 'files': ['/predictions/kwzjeaq999rm80cp3wzbnrpekr/files/0.jpg', '/predictions/kwzjeaq999rm80cp3wzbnrpekr/files/1.jpg'], 'num_outputs': 2}\n",
      "{'id': 'hyxhhrv0shrme0cp3wz8k7sn18', 'url': '/predictions/hyxhhrv0shrme0cp3wz8k7sn18', 'model': 'slackroo/superme-sumanth-v1', 'version': '535caef9907be746cc55ccde50aa5eee85d8f987d11c8c4735d70a18d1e37f49', 'status': 'succeeded', 'created_at': '2025-04-10T10:28:23.884000Z', 'completed_at': '2025-04-10T10:28:32.655245Z', 'files': ['/predictions/hyxhhrv0shrme0cp3wz8k7sn18/files/0.jpg'], 'num_outputs': 1}\n",
      "{'id': 'hyxhhrv0shrme0cp3wz8k7sn18', 'url': '/predictions/hyxhhrv0shrme0cp3wz8k7sn18', 'model': 'slackroo/superme-sumanth-v1', 'version': '535caef9907be746cc55ccde50aa5eee85d8f987d11c8c4735d70a18d1e37f49', 'status': 'succeeded', 'created_at': '2025-04-10T10:28:23.884000Z', 'completed_at': '2025-04-10T10:28:32.655245Z', 'files': ['/predictions/hyxhhrv0shrme0cp3wz8k7sn18/files/0.jpg'], 'num_outputs': 1}\n",
      "{'id': 'pkd3znqgx5rma0cp3wyvbce844', 'url': '/predictions/pkd3znqgx5rma0cp3wyvbce844', 'model': 'slackroo/superme-sumanth-v1', 'version': '535caef9907be746cc55ccde50aa5eee85d8f987d11c8c4735d70a18d1e37f49', 'status': 'succeeded', 'created_at': '2025-04-10T10:27:55.241000Z', 'completed_at': '2025-04-10T10:28:06.216047Z', 'files': ['/predictions/pkd3znqgx5rma0cp3wyvbce844/files/0.jpg'], 'num_outputs': 1}\n",
      "{'id': 'pkd3znqgx5rma0cp3wyvbce844', 'url': '/predictions/pkd3znqgx5rma0cp3wyvbce844', 'model': 'slackroo/superme-sumanth-v1', 'version': '535caef9907be746cc55ccde50aa5eee85d8f987d11c8c4735d70a18d1e37f49', 'status': 'succeeded', 'created_at': '2025-04-10T10:27:55.241000Z', 'completed_at': '2025-04-10T10:28:06.216047Z', 'files': ['/predictions/pkd3znqgx5rma0cp3wyvbce844/files/0.jpg'], 'num_outputs': 1}\n",
      "{'id': '06n8d1tzshrmc0cp3wyraxw7gw', 'url': '/predictions/06n8d1tzshrmc0cp3wyraxw7gw', 'model': 'slackroo/superme-sumanth-v1', 'version': '535caef9907be746cc55ccde50aa5eee85d8f987d11c8c4735d70a18d1e37f49', 'status': 'succeeded', 'created_at': '2025-04-10T10:27:18.092000Z', 'completed_at': '2025-04-10T10:27:30.779199Z', 'files': ['/predictions/06n8d1tzshrmc0cp3wyraxw7gw/files/0.jpg'], 'num_outputs': 1}\n",
      "{'id': '06n8d1tzshrmc0cp3wyraxw7gw', 'url': '/predictions/06n8d1tzshrmc0cp3wyraxw7gw', 'model': 'slackroo/superme-sumanth-v1', 'version': '535caef9907be746cc55ccde50aa5eee85d8f987d11c8c4735d70a18d1e37f49', 'status': 'succeeded', 'created_at': '2025-04-10T10:27:18.092000Z', 'completed_at': '2025-04-10T10:27:30.779199Z', 'files': ['/predictions/06n8d1tzshrmc0cp3wyraxw7gw/files/0.jpg'], 'num_outputs': 1}\n",
      "{'id': 'egzwf6x83xrma0cp3wybyhm91g', 'url': '/predictions/egzwf6x83xrma0cp3wybyhm91g', 'model': 'slackroo/superme-sumanth-v1', 'version': '535caef9907be746cc55ccde50aa5eee85d8f987d11c8c4735d70a18d1e37f49', 'status': 'succeeded', 'created_at': '2025-04-10T10:26:31.071000Z', 'completed_at': '2025-04-10T10:26:41.969950Z', 'files': ['/predictions/egzwf6x83xrma0cp3wybyhm91g/files/0.jpg'], 'num_outputs': 1}\n",
      "{'id': 'egzwf6x83xrma0cp3wybyhm91g', 'url': '/predictions/egzwf6x83xrma0cp3wybyhm91g', 'model': 'slackroo/superme-sumanth-v1', 'version': '535caef9907be746cc55ccde50aa5eee85d8f987d11c8c4735d70a18d1e37f49', 'status': 'succeeded', 'created_at': '2025-04-10T10:26:31.071000Z', 'completed_at': '2025-04-10T10:26:41.969950Z', 'files': ['/predictions/egzwf6x83xrma0cp3wybyhm91g/files/0.jpg'], 'num_outputs': 1}\n",
      "{'id': 'ce40jm983nrm80cp3wy9qwe6sr', 'url': '/predictions/ce40jm983nrm80cp3wy9qwe6sr', 'model': 'slackroo/superme-sumanth-v1', 'version': '535caef9907be746cc55ccde50aa5eee85d8f987d11c8c4735d70a18d1e37f49', 'status': 'succeeded', 'created_at': '2025-04-10T10:25:58.301000Z', 'completed_at': '2025-04-10T10:26:05.953090Z', 'files': ['/predictions/ce40jm983nrm80cp3wy9qwe6sr/files/0.jpg'], 'num_outputs': 1}\n",
      "{'id': 'ce40jm983nrm80cp3wy9qwe6sr', 'url': '/predictions/ce40jm983nrm80cp3wy9qwe6sr', 'model': 'slackroo/superme-sumanth-v1', 'version': '535caef9907be746cc55ccde50aa5eee85d8f987d11c8c4735d70a18d1e37f49', 'status': 'succeeded', 'created_at': '2025-04-10T10:25:58.301000Z', 'completed_at': '2025-04-10T10:26:05.953090Z', 'files': ['/predictions/ce40jm983nrm80cp3wy9qwe6sr/files/0.jpg'], 'num_outputs': 1}\n",
      "{'id': 'm393sevph1rmc0cp3wxrmwptn4', 'url': '/predictions/m393sevph1rmc0cp3wxrmwptn4', 'model': 'slackroo/superme-sumanth-v1', 'version': '535caef9907be746cc55ccde50aa5eee85d8f987d11c8c4735d70a18d1e37f49', 'status': 'succeeded', 'created_at': '2025-04-10T10:25:12.840000Z', 'completed_at': '2025-04-10T10:25:23.233396Z', 'files': ['/predictions/m393sevph1rmc0cp3wxrmwptn4/files/0.jpg'], 'num_outputs': 1}\n",
      "{'id': 'm393sevph1rmc0cp3wxrmwptn4', 'url': '/predictions/m393sevph1rmc0cp3wxrmwptn4', 'model': 'slackroo/superme-sumanth-v1', 'version': '535caef9907be746cc55ccde50aa5eee85d8f987d11c8c4735d70a18d1e37f49', 'status': 'succeeded', 'created_at': '2025-04-10T10:25:12.840000Z', 'completed_at': '2025-04-10T10:25:23.233396Z', 'files': ['/predictions/m393sevph1rmc0cp3wxrmwptn4/files/0.jpg'], 'num_outputs': 1}\n",
      "{'id': 'yaxesrxyxhrmc0cp3wwrb3bsbm', 'url': '/predictions/yaxesrxyxhrmc0cp3wwrb3bsbm', 'model': 'slackroo/superme-sumanth-v1', 'version': '535caef9907be746cc55ccde50aa5eee85d8f987d11c8c4735d70a18d1e37f49', 'status': 'succeeded', 'created_at': '2025-04-10T10:23:20.300000Z', 'completed_at': '2025-04-10T10:23:32.696354Z', 'files': ['/predictions/yaxesrxyxhrmc0cp3wwrb3bsbm/files/0.jpg'], 'num_outputs': 1}\n",
      "{'id': 'yaxesrxyxhrmc0cp3wwrb3bsbm', 'url': '/predictions/yaxesrxyxhrmc0cp3wwrb3bsbm', 'model': 'slackroo/superme-sumanth-v1', 'version': '535caef9907be746cc55ccde50aa5eee85d8f987d11c8c4735d70a18d1e37f49', 'status': 'succeeded', 'created_at': '2025-04-10T10:23:20.300000Z', 'completed_at': '2025-04-10T10:23:32.696354Z', 'files': ['/predictions/yaxesrxyxhrmc0cp3wwrb3bsbm/files/0.jpg'], 'num_outputs': 1}\n",
      "{'id': '43mr7tzathrm80cp3wvvtnxsrw', 'url': '/predictions/43mr7tzathrm80cp3wvvtnxsrw', 'model': 'slackroo/superme-sumanth-v1', 'version': '535caef9907be746cc55ccde50aa5eee85d8f987d11c8c4735d70a18d1e37f49', 'status': 'succeeded', 'created_at': '2025-04-10T10:21:20.468000Z', 'completed_at': '2025-04-10T10:21:31.241424Z', 'files': ['/predictions/43mr7tzathrm80cp3wvvtnxsrw/files/0.jpg'], 'num_outputs': 1}\n",
      "{'id': '43mr7tzathrm80cp3wvvtnxsrw', 'url': '/predictions/43mr7tzathrm80cp3wvvtnxsrw', 'model': 'slackroo/superme-sumanth-v1', 'version': '535caef9907be746cc55ccde50aa5eee85d8f987d11c8c4735d70a18d1e37f49', 'status': 'succeeded', 'created_at': '2025-04-10T10:21:20.468000Z', 'completed_at': '2025-04-10T10:21:31.241424Z', 'files': ['/predictions/43mr7tzathrm80cp3wvvtnxsrw/files/0.jpg'], 'num_outputs': 1}\n",
      "{'id': '9fnj7v6yqsrme0cp3wvbn58280', 'url': '/predictions/9fnj7v6yqsrme0cp3wvbn58280', 'model': 'slackroo/superme-sumanth-v1', 'version': '535caef9907be746cc55ccde50aa5eee85d8f987d11c8c4735d70a18d1e37f49', 'status': 'succeeded', 'created_at': '2025-04-10T10:20:11.838000Z', 'completed_at': '2025-04-10T10:20:28.261882Z', 'files': ['/predictions/9fnj7v6yqsrme0cp3wvbn58280/files/0.jpg'], 'num_outputs': 1}\n",
      "{'id': '9fnj7v6yqsrme0cp3wvbn58280', 'url': '/predictions/9fnj7v6yqsrme0cp3wvbn58280', 'model': 'slackroo/superme-sumanth-v1', 'version': '535caef9907be746cc55ccde50aa5eee85d8f987d11c8c4735d70a18d1e37f49', 'status': 'succeeded', 'created_at': '2025-04-10T10:20:11.838000Z', 'completed_at': '2025-04-10T10:20:28.261882Z', 'files': ['/predictions/9fnj7v6yqsrme0cp3wvbn58280/files/0.jpg'], 'num_outputs': 1}\n",
      "{'id': 'fy1emm20fxrmc0cp3wva66cycc', 'url': '/predictions/fy1emm20fxrmc0cp3wva66cycc', 'model': 'slackroo/superme-sumanth-v1', 'version': '535caef9907be746cc55ccde50aa5eee85d8f987d11c8c4735d70a18d1e37f49', 'status': 'succeeded', 'created_at': '2025-04-10T10:19:31.327000Z', 'completed_at': '2025-04-10T10:19:44.672420Z', 'files': ['/predictions/fy1emm20fxrmc0cp3wva66cycc/files/0.jpg'], 'num_outputs': 1}\n",
      "{'id': 'fy1emm20fxrmc0cp3wva66cycc', 'url': '/predictions/fy1emm20fxrmc0cp3wva66cycc', 'model': 'slackroo/superme-sumanth-v1', 'version': '535caef9907be746cc55ccde50aa5eee85d8f987d11c8c4735d70a18d1e37f49', 'status': 'succeeded', 'created_at': '2025-04-10T10:19:31.327000Z', 'completed_at': '2025-04-10T10:19:44.672420Z', 'files': ['/predictions/fy1emm20fxrmc0cp3wva66cycc/files/0.jpg'], 'num_outputs': 1}\n",
      "{'id': 'jskyvkt0wdrm80cp3wp99hrg30', 'url': '/predictions/jskyvkt0wdrm80cp3wp99hrg30', 'model': 'slackroo/superme-sumanth-v1', 'version': '535caef9907be746cc55ccde50aa5eee85d8f987d11c8c4735d70a18d1e37f49', 'status': 'succeeded', 'created_at': '2025-04-10T10:08:36.067000Z', 'completed_at': '2025-04-10T10:08:45.874007Z', 'files': ['/predictions/jskyvkt0wdrm80cp3wp99hrg30/files/0.webp'], 'num_outputs': 1}\n",
      "{'id': 'jskyvkt0wdrm80cp3wp99hrg30', 'url': '/predictions/jskyvkt0wdrm80cp3wp99hrg30', 'model': 'slackroo/superme-sumanth-v1', 'version': '535caef9907be746cc55ccde50aa5eee85d8f987d11c8c4735d70a18d1e37f49', 'status': 'succeeded', 'created_at': '2025-04-10T10:08:36.067000Z', 'completed_at': '2025-04-10T10:08:45.874007Z', 'files': ['/predictions/jskyvkt0wdrm80cp3wp99hrg30/files/0.webp'], 'num_outputs': 1}\n",
      "{'id': 'd59c6xrxehrm80cp3wmszwy3zg', 'url': '/predictions/d59c6xrxehrm80cp3wmszwy3zg', 'model': 'slackroo/superme-sumanth-v1', 'version': '535caef9907be746cc55ccde50aa5eee85d8f987d11c8c4735d70a18d1e37f49', 'status': 'succeeded', 'created_at': '2025-04-10T10:05:10.388000Z', 'completed_at': '2025-04-10T10:05:19.108023Z', 'files': ['/predictions/d59c6xrxehrm80cp3wmszwy3zg/files/0.webp'], 'num_outputs': 1}\n",
      "{'id': 'd59c6xrxehrm80cp3wmszwy3zg', 'url': '/predictions/d59c6xrxehrm80cp3wmszwy3zg', 'model': 'slackroo/superme-sumanth-v1', 'version': '535caef9907be746cc55ccde50aa5eee85d8f987d11c8c4735d70a18d1e37f49', 'status': 'succeeded', 'created_at': '2025-04-10T10:05:10.388000Z', 'completed_at': '2025-04-10T10:05:19.108023Z', 'files': ['/predictions/d59c6xrxehrm80cp3wmszwy3zg/files/0.webp'], 'num_outputs': 1}\n",
      "{'id': 'an7wghd7r9rme0cp3wm85tqst4', 'url': '/predictions/an7wghd7r9rme0cp3wm85tqst4', 'model': 'slackroo/superme-sumanth-v1', 'version': '535caef9907be746cc55ccde50aa5eee85d8f987d11c8c4735d70a18d1e37f49', 'status': 'succeeded', 'created_at': '2025-04-10T10:04:40.258000Z', 'completed_at': '2025-04-10T10:04:53.172482Z', 'files': ['/predictions/an7wghd7r9rme0cp3wm85tqst4/files/0.webp'], 'num_outputs': 1}\n",
      "{'id': 'an7wghd7r9rme0cp3wm85tqst4', 'url': '/predictions/an7wghd7r9rme0cp3wm85tqst4', 'model': 'slackroo/superme-sumanth-v1', 'version': '535caef9907be746cc55ccde50aa5eee85d8f987d11c8c4735d70a18d1e37f49', 'status': 'succeeded', 'created_at': '2025-04-10T10:04:40.258000Z', 'completed_at': '2025-04-10T10:04:53.172482Z', 'files': ['/predictions/an7wghd7r9rme0cp3wm85tqst4/files/0.webp'], 'num_outputs': 1}\n",
      "{'id': 'jn039cwmp9rme0cp3wksdvrw74', 'url': '/predictions/jn039cwmp9rme0cp3wksdvrw74', 'model': 'slackroo/superme-sumanth-v1', 'version': '535caef9907be746cc55ccde50aa5eee85d8f987d11c8c4735d70a18d1e37f49', 'status': 'succeeded', 'created_at': '2025-04-10T10:03:29.842000Z', 'completed_at': '2025-04-10T10:03:44.832757Z', 'files': ['/predictions/jn039cwmp9rme0cp3wksdvrw74/files/0.webp'], 'num_outputs': 1}\n",
      "{'id': 'jn039cwmp9rme0cp3wksdvrw74', 'url': '/predictions/jn039cwmp9rme0cp3wksdvrw74', 'model': 'slackroo/superme-sumanth-v1', 'version': '535caef9907be746cc55ccde50aa5eee85d8f987d11c8c4735d70a18d1e37f49', 'status': 'succeeded', 'created_at': '2025-04-10T10:03:29.842000Z', 'completed_at': '2025-04-10T10:03:44.832757Z', 'files': ['/predictions/jn039cwmp9rme0cp3wksdvrw74/files/0.webp'], 'num_outputs': 1}\n",
      "{'id': 'k1w11cf8jhrm80cp3wh8n1nff4', 'url': '/predictions/k1w11cf8jhrm80cp3wh8n1nff4', 'model': 'slackroo/superme-sumanth-v1', 'version': '535caef9907be746cc55ccde50aa5eee85d8f987d11c8c4735d70a18d1e37f49', 'status': 'succeeded', 'created_at': '2025-04-10T09:58:23.636000Z', 'completed_at': '2025-04-10T09:58:31.894780Z', 'files': ['/predictions/k1w11cf8jhrm80cp3wh8n1nff4/files/0.webp'], 'num_outputs': 1}\n",
      "{'id': 'k1w11cf8jhrm80cp3wh8n1nff4', 'url': '/predictions/k1w11cf8jhrm80cp3wh8n1nff4', 'model': 'slackroo/superme-sumanth-v1', 'version': '535caef9907be746cc55ccde50aa5eee85d8f987d11c8c4735d70a18d1e37f49', 'status': 'succeeded', 'created_at': '2025-04-10T09:58:23.636000Z', 'completed_at': '2025-04-10T09:58:31.894780Z', 'files': ['/predictions/k1w11cf8jhrm80cp3wh8n1nff4/files/0.webp'], 'num_outputs': 1}\n",
      "{'id': 'gkk7fer1a1rme0cp3wh89rj708', 'url': '/predictions/gkk7fer1a1rme0cp3wh89rj708', 'model': 'slackroo/superme-sumanth-v1', 'version': '535caef9907be746cc55ccde50aa5eee85d8f987d11c8c4735d70a18d1e37f49', 'status': 'succeeded', 'created_at': '2025-04-10T09:57:24.432000Z', 'completed_at': '2025-04-10T09:57:34.927926Z', 'files': ['/predictions/gkk7fer1a1rme0cp3wh89rj708/files/0.webp'], 'num_outputs': 1}\n",
      "{'id': 'gkk7fer1a1rme0cp3wh89rj708', 'url': '/predictions/gkk7fer1a1rme0cp3wh89rj708', 'model': 'slackroo/superme-sumanth-v1', 'version': '535caef9907be746cc55ccde50aa5eee85d8f987d11c8c4735d70a18d1e37f49', 'status': 'succeeded', 'created_at': '2025-04-10T09:57:24.432000Z', 'completed_at': '2025-04-10T09:57:34.927926Z', 'files': ['/predictions/gkk7fer1a1rme0cp3wh89rj708/files/0.webp'], 'num_outputs': 1}\n",
      "{'id': 'zbn6z8va05rmc0cp3wg9ajm8y4', 'url': '/predictions/zbn6z8va05rmc0cp3wg9ajm8y4', 'model': 'slackroo/superme-sumanth-v1', 'version': '535caef9907be746cc55ccde50aa5eee85d8f987d11c8c4735d70a18d1e37f49', 'status': 'succeeded', 'created_at': '2025-04-10T09:55:40.161000Z', 'completed_at': '2025-04-10T09:55:53.691790Z', 'files': ['/predictions/zbn6z8va05rmc0cp3wg9ajm8y4/files/0.webp'], 'num_outputs': 1}\n",
      "{'id': 'zbn6z8va05rmc0cp3wg9ajm8y4', 'url': '/predictions/zbn6z8va05rmc0cp3wg9ajm8y4', 'model': 'slackroo/superme-sumanth-v1', 'version': '535caef9907be746cc55ccde50aa5eee85d8f987d11c8c4735d70a18d1e37f49', 'status': 'succeeded', 'created_at': '2025-04-10T09:55:40.161000Z', 'completed_at': '2025-04-10T09:55:53.691790Z', 'files': ['/predictions/zbn6z8va05rmc0cp3wg9ajm8y4/files/0.webp'], 'num_outputs': 1}\n"
     ]
    }
   ],
   "execution_count": 39
  },
  {
   "metadata": {
    "ExecuteTime": {
     "end_time": "2025-04-20T06:14:05.163004Z",
     "start_time": "2025-04-20T06:14:02.670012Z"
    }
   },
   "cell_type": "code",
   "source": [
    "with httpx.Client() as client:\n",
    "    res = client.get(url, headers=headers)\n",
    "    print(res)"
   ],
   "id": "e708e3de394125c0",
   "outputs": [
    {
     "name": "stdout",
     "output_type": "stream",
     "text": [
      "<Response [200 OK]>\n"
     ]
    }
   ],
   "execution_count": 40
  },
  {
   "metadata": {
    "ExecuteTime": {
     "end_time": "2025-04-20T06:14:05.209242Z",
     "start_time": "2025-04-20T06:14:05.207196Z"
    }
   },
   "cell_type": "code",
   "source": "",
   "id": "865e6d6643e0eebc",
   "outputs": [],
   "execution_count": null
  },
  {
   "metadata": {},
   "cell_type": "code",
   "outputs": [],
   "execution_count": null,
   "source": "",
   "id": "a100dbc367ce96b7"
  }
 ],
 "metadata": {
  "kernelspec": {
   "display_name": "Python 3",
   "language": "python",
   "name": "python3"
  },
  "language_info": {
   "codemirror_mode": {
    "name": "ipython",
    "version": 2
   },
   "file_extension": ".py",
   "mimetype": "text/x-python",
   "name": "python",
   "nbconvert_exporter": "python",
   "pygments_lexer": "ipython2",
   "version": "2.7.6"
  }
 },
 "nbformat": 4,
 "nbformat_minor": 5
}
