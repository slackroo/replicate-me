{
 "cells": [
  {
   "cell_type": "code",
   "id": "initial_id",
   "metadata": {
    "collapsed": true,
    "ExecuteTime": {
     "end_time": "2025-04-10T06:20:42.074956Z",
     "start_time": "2025-04-10T06:20:42.031599Z"
    }
   },
   "source": [
    "import mimetypes\n",
    "import pathlib\n",
    "import shutil\n",
    "import tempfile\n",
    "\n",
    "from PIL import Image, ImageOps\n",
    "# from  pillow_heif import register_heif_opener.  # for mac images\n",
    "# register_heif_opener()\n",
    "\n"
   ],
   "outputs": [],
   "execution_count": 1
  },
  {
   "metadata": {
    "ExecuteTime": {
     "end_time": "2025-04-10T06:20:42.086780Z",
     "start_time": "2025-04-10T06:20:42.082335Z"
    }
   },
   "cell_type": "code",
   "source": [
    "# pathlib.Path(__file__).resolve() # For python file\n",
    "NBS_DIR = pathlib.Path().resolve()\n",
    "REPO_DIR = NBS_DIR.parent\n",
    "DATA_DIR = REPO_DIR / 'data'\n",
    "INPUT_DIR = DATA_DIR / 'inputs'\n",
    "OUTPUT_DIR = DATA_DIR / 'outputs'"
   ],
   "id": "18c53f8e1606b398",
   "outputs": [],
   "execution_count": 2
  },
  {
   "metadata": {
    "ExecuteTime": {
     "end_time": "2025-04-10T06:20:42.354649Z",
     "start_time": "2025-04-10T06:20:42.350519Z"
    }
   },
   "cell_type": "code",
   "source": [
    "\n",
    "def perform_is_image(path, require_can_open=True):\n",
    "\n",
    "    try:\n",
    "        guess_type, encoding = mimetypes.guess_type(path)\n",
    "    except:\n",
    "        guess_type = \"\"\n",
    "    # print(file_path.name, guess_type)\n",
    "    guessed_image = \"image\" in guess_type\n",
    "    if not guessed_image:\n",
    "        return False\n",
    "    if guessed_image and require_can_open:\n",
    "        try:\n",
    "            Image.open(path)\n",
    "        except:\n",
    "            return False\n",
    "    return True"
   ],
   "id": "8de0cc081ba163e1",
   "outputs": [],
   "execution_count": 3
  },
  {
   "metadata": {
    "ExecuteTime": {
     "end_time": "2025-04-10T06:20:42.482984Z",
     "start_time": "2025-04-10T06:20:42.367461Z"
    }
   },
   "cell_type": "code",
   "source": [
    "image_file_paths = []\n",
    "\n",
    "for file_path in INPUT_DIR.glob('*'):\n",
    "    is_image = perform_is_image(file_path)\n",
    "    if not is_image:\n",
    "        continue\n",
    "    image_file_paths.append(file_path)\n",
    "\n",
    "image_file_paths"
   ],
   "id": "9d54283e37a32f9f",
   "outputs": [
    {
     "data": {
      "text/plain": [
       "[PosixPath('/Users/slackroo/Data_science/frontend_stack/superme-api/data/inputs/8.jpg'),\n",
       " PosixPath('/Users/slackroo/Data_science/frontend_stack/superme-api/data/inputs/1.jpeg'),\n",
       " PosixPath('/Users/slackroo/Data_science/frontend_stack/superme-api/data/inputs/9.jpg'),\n",
       " PosixPath('/Users/slackroo/Data_science/frontend_stack/superme-api/data/inputs/11.jpg'),\n",
       " PosixPath('/Users/slackroo/Data_science/frontend_stack/superme-api/data/inputs/10.jpg'),\n",
       " PosixPath('/Users/slackroo/Data_science/frontend_stack/superme-api/data/inputs/4.jpg'),\n",
       " PosixPath('/Users/slackroo/Data_science/frontend_stack/superme-api/data/inputs/2.jpeg'),\n",
       " PosixPath('/Users/slackroo/Data_science/frontend_stack/superme-api/data/inputs/5.jpg'),\n",
       " PosixPath('/Users/slackroo/Data_science/frontend_stack/superme-api/data/inputs/7.jpg'),\n",
       " PosixPath('/Users/slackroo/Data_science/frontend_stack/superme-api/data/inputs/6.jpg'),\n",
       " PosixPath('/Users/slackroo/Data_science/frontend_stack/superme-api/data/inputs/3.jpg')]"
      ]
     },
     "execution_count": 4,
     "metadata": {},
     "output_type": "execute_result"
    }
   ],
   "execution_count": 4
  },
  {
   "metadata": {
    "ExecuteTime": {
     "end_time": "2025-04-10T06:20:42.504159Z",
     "start_time": "2025-04-10T06:20:42.500616Z"
    }
   },
   "cell_type": "code",
   "source": "OUTPUT_DIR.mkdir(exist_ok=True, parents=True)",
   "id": "1c91a0cfafa4ed86",
   "outputs": [],
   "execution_count": 5
  },
  {
   "metadata": {
    "ExecuteTime": {
     "end_time": "2025-04-10T06:20:42.519898Z",
     "start_time": "2025-04-10T06:20:42.515022Z"
    }
   },
   "cell_type": "code",
   "source": [
    "zip_outpath = OUTPUT_DIR / 'images.zip'\n",
    "zip_outpath.exists()"
   ],
   "id": "9f5c589b4ca71499",
   "outputs": [
    {
     "data": {
      "text/plain": [
       "True"
      ]
     },
     "execution_count": 6,
     "metadata": {},
     "output_type": "execute_result"
    }
   ],
   "execution_count": 6
  },
  {
   "metadata": {
    "ExecuteTime": {
     "end_time": "2025-04-10T06:20:43.287979Z",
     "start_time": "2025-04-10T06:20:42.539750Z"
    }
   },
   "cell_type": "code",
   "source": [
    "with tempfile.TemporaryDirectory() as temp_dir:\n",
    "    for path in image_file_paths:\n",
    "        shutil.copy(path, temp_dir)\n",
    "\n",
    "    shutil.make_archive(zip_outpath.with_suffix(''), 'zip', temp_dir)"
   ],
   "id": "e944487b71e0adbc",
   "outputs": [],
   "execution_count": 7
  },
  {
   "metadata": {
    "ExecuteTime": {
     "end_time": "2025-04-10T06:20:43.299549Z",
     "start_time": "2025-04-10T06:20:43.297372Z"
    }
   },
   "cell_type": "code",
   "source": "",
   "id": "e76a939b747a0305",
   "outputs": [],
   "execution_count": null
  }
 ],
 "metadata": {
  "kernelspec": {
   "display_name": "Python 3",
   "language": "python",
   "name": "python3"
  },
  "language_info": {
   "codemirror_mode": {
    "name": "ipython",
    "version": 2
   },
   "file_extension": ".py",
   "mimetype": "text/x-python",
   "name": "python",
   "nbconvert_exporter": "python",
   "pygments_lexer": "ipython2",
   "version": "2.7.6"
  }
 },
 "nbformat": 4,
 "nbformat_minor": 5
}
