{
 "cells": [
  {
   "cell_type": "code",
   "id": "initial_id",
   "metadata": {
    "collapsed": true,
    "ExecuteTime": {
     "end_time": "2025-04-13T05:06:51.963260Z",
     "start_time": "2025-04-13T05:06:51.818403Z"
    }
   },
   "source": [
    "import httpx\n",
    "endpoint = \"http://127.0.0.1:8000/generate\""
   ],
   "outputs": [],
   "execution_count": 1
  },
  {
   "metadata": {
    "ExecuteTime": {
     "end_time": "2025-04-13T05:06:52.087689Z",
     "start_time": "2025-04-13T05:06:51.968854Z"
    }
   },
   "cell_type": "code",
   "source": [
    "# res = httpx.post(endpoint,\n",
    "#                  json={\n",
    "#                      \"prompt\":\"something else\"\n",
    "#                  })\n",
    "\n",
    "prompt = \"a phot of TOK who is a architecture explaining building plans to a contractor\"\n",
    "res = httpx.post(endpoint,\n",
    "                 json={\n",
    "                     \"prompt\":prompt\n",
    "                 })"
   ],
   "id": "ce7f4d34a2cfd210",
   "outputs": [],
   "execution_count": 2
  },
  {
   "metadata": {
    "ExecuteTime": {
     "end_time": "2025-04-13T05:06:52.360926Z",
     "start_time": "2025-04-13T05:06:52.354107Z"
    }
   },
   "cell_type": "code",
   "source": "res.status_code, res.json()",
   "id": "fddd31b701ed3541",
   "outputs": [
    {
     "data": {
      "text/plain": [
       "(403, {'detail': 'Invalid API Key'})"
      ]
     },
     "execution_count": 3,
     "metadata": {},
     "output_type": "execute_result"
    }
   ],
   "execution_count": 3
  },
  {
   "metadata": {
    "ExecuteTime": {
     "end_time": "2025-04-13T05:06:52.441184Z",
     "start_time": "2025-04-13T05:06:52.438871Z"
    }
   },
   "cell_type": "code",
   "source": "",
   "id": "61d62c69d351cbed",
   "outputs": [],
   "execution_count": null
  }
 ],
 "metadata": {
  "kernelspec": {
   "display_name": "Python 3",
   "language": "python",
   "name": "python3"
  },
  "language_info": {
   "codemirror_mode": {
    "name": "ipython",
    "version": 2
   },
   "file_extension": ".py",
   "mimetype": "text/x-python",
   "name": "python",
   "nbconvert_exporter": "python",
   "pygments_lexer": "ipython2",
   "version": "2.7.6"
  }
 },
 "nbformat": 4,
 "nbformat_minor": 5
}
