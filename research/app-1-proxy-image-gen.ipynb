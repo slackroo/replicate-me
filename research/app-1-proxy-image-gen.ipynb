{
 "cells": [
  {
   "cell_type": "code",
   "id": "initial_id",
   "metadata": {
    "collapsed": true,
    "ExecuteTime": {
     "end_time": "2025-04-12T13:28:25.499310Z",
     "start_time": "2025-04-12T13:28:25.315342Z"
    }
   },
   "source": [
    "import httpx\n",
    "endpoint = \"http://127.0.0.1:8000/generate\""
   ],
   "outputs": [],
   "execution_count": 1
  },
  {
   "metadata": {
    "ExecuteTime": {
     "end_time": "2025-04-12T13:32:05.892175Z",
     "start_time": "2025-04-12T13:32:01.267365Z"
    }
   },
   "cell_type": "code",
   "source": [
    "# res = httpx.post(endpoint,\n",
    "#                  json={\n",
    "#                      \"prompt\":\"something else\"\n",
    "#                  })\n",
    "\n",
    "prompt = \"a phot of TOK who is a architecture explaining building plans to a contractor\"\n",
    "res = httpx.post(endpoint,\n",
    "                 json={\n",
    "                     \"prompt\":prompt\n",
    "                 })"
   ],
   "id": "ce7f4d34a2cfd210",
   "outputs": [],
   "execution_count": 7
  },
  {
   "metadata": {
    "ExecuteTime": {
     "end_time": "2025-04-12T13:32:05.933718Z",
     "start_time": "2025-04-12T13:32:05.929060Z"
    }
   },
   "cell_type": "code",
   "source": "res.status_code, res.json()",
   "id": "fddd31b701ed3541",
   "outputs": [
    {
     "data": {
      "text/plain": [
       "(200, {'id': '4q07zdt6wsrmc0cp58srbfs09g', 'status': 'starting'})"
      ]
     },
     "execution_count": 8,
     "metadata": {},
     "output_type": "execute_result"
    }
   ],
   "execution_count": 8
  },
  {
   "metadata": {},
   "cell_type": "code",
   "outputs": [],
   "execution_count": null,
   "source": "",
   "id": "61d62c69d351cbed"
  }
 ],
 "metadata": {
  "kernelspec": {
   "display_name": "Python 3",
   "language": "python",
   "name": "python3"
  },
  "language_info": {
   "codemirror_mode": {
    "name": "ipython",
    "version": 2
   },
   "file_extension": ".py",
   "mimetype": "text/x-python",
   "name": "python",
   "nbconvert_exporter": "python",
   "pygments_lexer": "ipython2",
   "version": "2.7.6"
  }
 },
 "nbformat": 4,
 "nbformat_minor": 5
}
