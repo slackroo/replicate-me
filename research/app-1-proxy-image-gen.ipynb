{
 "cells": [
  {
   "cell_type": "code",
   "id": "initial_id",
   "metadata": {
    "collapsed": true,
    "ExecuteTime": {
     "end_time": "2025-04-20T06:08:38.502229Z",
     "start_time": "2025-04-20T06:08:38.497418Z"
    }
   },
   "source": [
    "import httpx\n",
    "from decouple import Config, RepositoryEnv, config\n",
    "import pathlib\n",
    "\n",
    "NBS_DIR = pathlib.Path().resolve()\n",
    "REPO_DIR = NBS_DIR.parent\n",
    "\n",
    "config_env = Config(RepositoryEnv(REPO_DIR / '.env'))\n",
    "\n",
    "API_ACCESS_KEY = config_env('API_ACCESS_KEY')\n",
    "\n",
    "headers = {\n",
    "    \"X-API-Key\" : API_ACCESS_KEY\n",
    "}\n",
    "\n",
    "endpoint = \"http://127.0.0.1:8000/generate\""
   ],
   "outputs": [],
   "execution_count": 17
  },
  {
   "metadata": {
    "ExecuteTime": {
     "end_time": "2025-04-20T06:08:41.455910Z",
     "start_time": "2025-04-20T06:08:38.521736Z"
    }
   },
   "cell_type": "code",
   "source": [
    "# res = httpx.post(endpoint,\n",
    "#                  json={\n",
    "#                      \"prompt\":\"something else\"\n",
    "#                  })\n",
    "\n",
    "prompt = \"a phot of TOK who is a hiking the Niagra falls\"\n",
    "res = httpx.post(endpoint,\n",
    "                 json={\n",
    "                     \"prompt\":prompt\n",
    "                 },\n",
    "                 headers=headers\n",
    "                 )"
   ],
   "id": "ce7f4d34a2cfd210",
   "outputs": [],
   "execution_count": 18
  },
  {
   "metadata": {
    "ExecuteTime": {
     "end_time": "2025-04-20T06:08:41.508165Z",
     "start_time": "2025-04-20T06:08:41.502615Z"
    }
   },
   "cell_type": "code",
   "source": "res.status_code, res.json()",
   "id": "fddd31b701ed3541",
   "outputs": [
    {
     "data": {
      "text/plain": [
       "(200,\n",
       " {'id': '8j6ec6hkk9rme0cpa78bh14vbm',\n",
       "  'url': '/predictions/8j6ec6hkk9rme0cpa78bh14vbm',\n",
       "  'status': 'starting'})"
      ]
     },
     "execution_count": 19,
     "metadata": {},
     "output_type": "execute_result"
    }
   ],
   "execution_count": 19
  },
  {
   "metadata": {
    "ExecuteTime": {
     "end_time": "2025-04-20T06:08:41.525664Z",
     "start_time": "2025-04-20T06:08:41.521370Z"
    }
   },
   "cell_type": "code",
   "source": "type(res.status_code)",
   "id": "61d62c69d351cbed",
   "outputs": [
    {
     "data": {
      "text/plain": [
       "int"
      ]
     },
     "execution_count": 20,
     "metadata": {},
     "output_type": "execute_result"
    }
   ],
   "execution_count": 20
  },
  {
   "metadata": {
    "ExecuteTime": {
     "end_time": "2025-04-20T06:08:41.540063Z",
     "start_time": "2025-04-20T06:08:41.537682Z"
    }
   },
   "cell_type": "code",
   "source": "",
   "id": "f2d268dd2262fdf6",
   "outputs": [],
   "execution_count": null
  }
 ],
 "metadata": {
  "kernelspec": {
   "display_name": "Python 3",
   "language": "python",
   "name": "python3"
  },
  "language_info": {
   "codemirror_mode": {
    "name": "ipython",
    "version": 2
   },
   "file_extension": ".py",
   "mimetype": "text/x-python",
   "name": "python",
   "nbconvert_exporter": "python",
   "pygments_lexer": "ipython2",
   "version": "2.7.6"
  }
 },
 "nbformat": 4,
 "nbformat_minor": 5
}
