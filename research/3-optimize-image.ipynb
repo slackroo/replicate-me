{
 "cells": [
  {
   "cell_type": "code",
   "id": "initial_id",
   "metadata": {
    "collapsed": true,
    "ExecuteTime": {
     "end_time": "2025-04-10T08:57:43.430071Z",
     "start_time": "2025-04-10T08:57:43.387833Z"
    }
   },
   "source": [
    "import mimetypes\n",
    "import pathlib\n",
    "import shutil\n",
    "import tempfile\n",
    "\n",
    "from PIL import Image, ImageOps\n",
    "# from  pillow_heif import register_heif_opener.  # for mac images\n",
    "# register_heif_opener()\n",
    "\n"
   ],
   "outputs": [],
   "execution_count": 1
  },
  {
   "metadata": {
    "ExecuteTime": {
     "end_time": "2025-04-10T08:57:43.440057Z",
     "start_time": "2025-04-10T08:57:43.436211Z"
    }
   },
   "cell_type": "code",
   "source": [
    "# pathlib.Path(__file__).resolve() # For python file\n",
    "NBS_DIR = pathlib.Path().resolve()\n",
    "REPO_DIR = NBS_DIR.parent\n",
    "DATA_DIR = REPO_DIR / 'data'\n",
    "INPUT_DIR = DATA_DIR / 'inputs'\n",
    "READY_DIR = DATA_DIR / 'ready'\n",
    "OUTPUT_DIR = DATA_DIR / 'outputs'"
   ],
   "id": "18c53f8e1606b398",
   "outputs": [],
   "execution_count": 2
  },
  {
   "metadata": {
    "ExecuteTime": {
     "end_time": "2025-04-10T08:57:43.732700Z",
     "start_time": "2025-04-10T08:57:43.725450Z"
    }
   },
   "cell_type": "code",
   "source": [
    "def perform_clear_and_optimize_image(image_path, output_path, max_size=(1920,1920)):\n",
    "\n",
    "    \"\"\"\n",
    "    Removes all metadata from the image ( eg. EXIF data)\n",
    "    Optimizes the image file size while preserving quality and transparency of the image\n",
    "    :param image_path:\n",
    "    :param output_path:\n",
    "    :param max_size: Fixed size\n",
    "    :return:\n",
    "    \"\"\"\n",
    "\n",
    "    # convert to path object\n",
    "    input_path = pathlib.Path(image_path)\n",
    "    output_path = pathlib.Path(output_path)\n",
    "\n",
    "    # Open and create a clean copy\n",
    "    original = Image.open(image_path)\n",
    "\n",
    "    # Determine if image has transparency\n",
    "    has_transparency = original.mode in ('RGBA', 'LA') or  (original.mode == 'P' and 'transparency' in original.info)\n",
    "\n",
    "    # Auto-rotate based on EXIF\n",
    "    original = ImageOps.exif_transpose(original)\n",
    "\n",
    "    # Resize if larger than the max_size while maintaining all aspects\n",
    "    if original.size[0]>max_size[0] or original.size[1]>max_size[1]:\n",
    "        original.thumbnail(max_size,Image.Resampling.LANCZOS)\n",
    "\n",
    "    # Convert mode based on transparency\n",
    "    if has_transparency:\n",
    "        if original.mode != 'RGBA':\n",
    "            original = original.convert('RGBA')\n",
    "        best_format = 'PNG'\n",
    "    else:\n",
    "        if original.mode in (\"RGBA\", \"P\", \"LA\"):\n",
    "            original = original.convert('RGB')\n",
    "        best_format = 'JPEG'\n",
    "\n",
    "    # save with optimized settings\n",
    "    save_kwargs = {}\n",
    "    if best_format == 'JPEG':\n",
    "        save_kwargs.update({\n",
    "           'quality': 85,\n",
    "            'optimize': True,\n",
    "            'progressive': True,\n",
    "        })\n",
    "        output_path = output_path.with_suffix('.jpg')\n",
    "    elif best_format == 'PNG':\n",
    "        save_kwargs.update({\n",
    "            'optimize': True,\n",
    "            'compress_level': 6,\n",
    "        })\n",
    "        output_path = output_path.with_suffix('.png')\n",
    "    print(f\"Saving {output_path}\")\n",
    "    original.save(output_path, format=best_format, **save_kwargs)\n",
    "    return output_path\n",
    "\n",
    "\n",
    "\n",
    "\n",
    "    # image = Image.open(image_path)\n",
    "    # image = ImageOps.exif_transpose(image)\n",
    "    # image = ImageOps.autocontrast(image)\n",
    "    # image = ImageOps.equalize(image)\n",
    "    # image = ImageOps.posterize(image, 4)\n",
    "    # image = ImageOps.solarize(image, threshold=128)\n",
    "    # image = ImageOps.invert(image)\n",
    "    # image = ImageOps.grayscale(image)\n",
    "    # image = ImageOps.colorize(image, black=\"black\", white=\"white\")"
   ],
   "id": "3caaf6bb4fc06f7",
   "outputs": [],
   "execution_count": 3
  },
  {
   "metadata": {
    "ExecuteTime": {
     "end_time": "2025-04-10T09:05:30.371461Z",
     "start_time": "2025-04-10T09:05:30.365294Z"
    }
   },
   "cell_type": "code",
   "source": [
    "\n",
    "def perform_is_image(path, require_can_open=True):\n",
    "\n",
    "    try:\n",
    "        guess_type, encoding = mimetypes.guess_type(path)\n",
    "        guess_type = guess_type or \"\"\n",
    "    except:\n",
    "        guess_type = \"\"\n",
    "    print(file_path.name, guess_type)\n",
    "    guessed_image = \"image\" in guess_type\n",
    "    if not guessed_image:\n",
    "        return False\n",
    "    if guessed_image and require_can_open:\n",
    "        try:\n",
    "            img_ = Image.open(path)\n",
    "            print(img_)\n",
    "        except:\n",
    "            return False\n",
    "    return True"
   ],
   "id": "8de0cc081ba163e1",
   "outputs": [],
   "execution_count": 13
  },
  {
   "metadata": {
    "ExecuteTime": {
     "end_time": "2025-04-10T09:05:35.075173Z",
     "start_time": "2025-04-10T09:05:31.135746Z"
    }
   },
   "cell_type": "code",
   "source": [
    "image_file_paths = []\n",
    "\n",
    "for file_path in INPUT_DIR.glob('*'):\n",
    "    print(file_path)\n",
    "    is_image = perform_is_image(file_path)\n",
    "    if not is_image:\n",
    "        continue\n",
    "    start_op_path = READY_DIR / file_path.name\n",
    "    final_op_path = perform_clear_and_optimize_image(file_path, start_op_path)\n",
    "    image_file_paths.append(final_op_path)\n",
    "\n",
    "image_file_paths"
   ],
   "id": "9d54283e37a32f9f",
   "outputs": [
    {
     "name": "stdout",
     "output_type": "stream",
     "text": [
      "/Users/slackroo/Data_science/frontend_stack/superme-api/data/inputs/not-an-image.txt\n",
      "not-an-image.txt text/plain\n",
      "/Users/slackroo/Data_science/frontend_stack/superme-api/data/inputs/.DS_Store\n",
      ".DS_Store \n",
      "/Users/slackroo/Data_science/frontend_stack/superme-api/data/inputs/8.jpg\n",
      "8.jpg image/jpeg\n",
      "<PIL.JpegImagePlugin.JpegImageFile image mode=RGB size=4000x1868 at 0x108E426F0>\n",
      "Saving /Users/slackroo/Data_science/frontend_stack/superme-api/data/ready/8.jpg\n",
      "/Users/slackroo/Data_science/frontend_stack/superme-api/data/inputs/1.jpeg\n",
      "1.jpeg image/jpeg\n",
      "<PIL.JpegImagePlugin.JpegImageFile image mode=RGB size=1792x1195 at 0x108A54CB0>\n",
      "Saving /Users/slackroo/Data_science/frontend_stack/superme-api/data/ready/1.jpg\n",
      "/Users/slackroo/Data_science/frontend_stack/superme-api/data/inputs/9.jpg\n",
      "9.jpg image/jpeg\n",
      "<PIL.JpegImagePlugin.JpegImageFile image mode=RGB size=959x1468 at 0x1089850D0>\n",
      "Saving /Users/slackroo/Data_science/frontend_stack/superme-api/data/ready/9.jpg\n",
      "/Users/slackroo/Data_science/frontend_stack/superme-api/data/inputs/11.jpg\n",
      "11.jpg image/jpeg\n",
      "<PIL.JpegImagePlugin.JpegImageFile image mode=RGB size=3392x2544 at 0x108E44CB0>\n",
      "Saving /Users/slackroo/Data_science/frontend_stack/superme-api/data/ready/11.jpg\n",
      "/Users/slackroo/Data_science/frontend_stack/superme-api/data/inputs/10.jpg\n",
      "10.jpg image/jpeg\n",
      "<PIL.JpegImagePlugin.JpegImageFile image mode=RGB size=1080x2400 at 0x108E34500>\n",
      "Saving /Users/slackroo/Data_science/frontend_stack/superme-api/data/ready/10.jpg\n",
      "/Users/slackroo/Data_science/frontend_stack/superme-api/data/inputs/4.jpg\n",
      "4.jpg image/jpeg\n",
      "<PIL.JpegImagePlugin.JpegImageFile image mode=RGB size=1080x1393 at 0x108E497F0>\n",
      "Saving /Users/slackroo/Data_science/frontend_stack/superme-api/data/ready/4.jpg\n",
      "/Users/slackroo/Data_science/frontend_stack/superme-api/data/inputs/5.jpg\n",
      "5.jpg image/jpeg\n",
      "<PIL.JpegImagePlugin.JpegImageFile image mode=RGB size=3392x2544 at 0x108E4B620>\n",
      "Saving /Users/slackroo/Data_science/frontend_stack/superme-api/data/ready/5.jpg\n",
      "/Users/slackroo/Data_science/frontend_stack/superme-api/data/inputs/7.png\n",
      "7.png image/png\n",
      "<PIL.PngImagePlugin.PngImageFile image mode=RGBA size=1303x1271 at 0x108E484D0>\n",
      "Saving /Users/slackroo/Data_science/frontend_stack/superme-api/data/ready/7.png\n",
      "/Users/slackroo/Data_science/frontend_stack/superme-api/data/inputs/6.jpg\n",
      "6.jpg image/jpeg\n",
      "<PIL.JpegImagePlugin.JpegImageFile image mode=RGB size=3392x2544 at 0x108A4FC80>\n",
      "Saving /Users/slackroo/Data_science/frontend_stack/superme-api/data/ready/6.jpg\n",
      "/Users/slackroo/Data_science/frontend_stack/superme-api/data/inputs/2.jpg\n",
      "2.jpg image/jpeg\n",
      "<PIL.JpegImagePlugin.JpegImageFile image mode=RGB size=4928x6560 at 0x108E492B0>\n",
      "Saving /Users/slackroo/Data_science/frontend_stack/superme-api/data/ready/2.jpg\n",
      "/Users/slackroo/Data_science/frontend_stack/superme-api/data/inputs/3.jpg\n",
      "3.jpg image/jpeg\n",
      "<PIL.JpegImagePlugin.JpegImageFile image mode=RGB size=3000x3672 at 0x108E495B0>\n",
      "Saving /Users/slackroo/Data_science/frontend_stack/superme-api/data/ready/3.jpg\n"
     ]
    },
    {
     "data": {
      "text/plain": [
       "[PosixPath('/Users/slackroo/Data_science/frontend_stack/superme-api/data/ready/8.jpg'),\n",
       " PosixPath('/Users/slackroo/Data_science/frontend_stack/superme-api/data/ready/1.jpg'),\n",
       " PosixPath('/Users/slackroo/Data_science/frontend_stack/superme-api/data/ready/9.jpg'),\n",
       " PosixPath('/Users/slackroo/Data_science/frontend_stack/superme-api/data/ready/11.jpg'),\n",
       " PosixPath('/Users/slackroo/Data_science/frontend_stack/superme-api/data/ready/10.jpg'),\n",
       " PosixPath('/Users/slackroo/Data_science/frontend_stack/superme-api/data/ready/4.jpg'),\n",
       " PosixPath('/Users/slackroo/Data_science/frontend_stack/superme-api/data/ready/5.jpg'),\n",
       " PosixPath('/Users/slackroo/Data_science/frontend_stack/superme-api/data/ready/7.png'),\n",
       " PosixPath('/Users/slackroo/Data_science/frontend_stack/superme-api/data/ready/6.jpg'),\n",
       " PosixPath('/Users/slackroo/Data_science/frontend_stack/superme-api/data/ready/2.jpg'),\n",
       " PosixPath('/Users/slackroo/Data_science/frontend_stack/superme-api/data/ready/3.jpg')]"
      ]
     },
     "execution_count": 14,
     "metadata": {},
     "output_type": "execute_result"
    }
   ],
   "execution_count": 14
  },
  {
   "metadata": {
    "ExecuteTime": {
     "end_time": "2025-04-10T09:05:39.085183Z",
     "start_time": "2025-04-10T09:05:39.081464Z"
    }
   },
   "cell_type": "code",
   "source": [
    "READY_DIR.mkdir(exist_ok=True, parents=True)\n",
    "OUTPUT_DIR.mkdir(exist_ok=True, parents=True)"
   ],
   "id": "1c91a0cfafa4ed86",
   "outputs": [],
   "execution_count": 15
  },
  {
   "metadata": {
    "ExecuteTime": {
     "end_time": "2025-04-10T09:05:40.945341Z",
     "start_time": "2025-04-10T09:05:40.940736Z"
    }
   },
   "cell_type": "code",
   "source": [
    "zip_outpath = OUTPUT_DIR / 'images-optimized.zip'\n",
    "zip_outpath.exists()"
   ],
   "id": "9f5c589b4ca71499",
   "outputs": [
    {
     "data": {
      "text/plain": [
       "True"
      ]
     },
     "execution_count": 16,
     "metadata": {},
     "output_type": "execute_result"
    }
   ],
   "execution_count": 16
  },
  {
   "metadata": {
    "ExecuteTime": {
     "end_time": "2025-04-10T09:05:43.154993Z",
     "start_time": "2025-04-10T09:05:42.979145Z"
    }
   },
   "cell_type": "code",
   "source": [
    "with tempfile.TemporaryDirectory() as temp_dir:\n",
    "    for path in image_file_paths:\n",
    "        shutil.copy(path, temp_dir)\n",
    "\n",
    "    shutil.make_archive(zip_outpath.with_suffix(''), 'zip', temp_dir)"
   ],
   "id": "e944487b71e0adbc",
   "outputs": [],
   "execution_count": 17
  },
  {
   "metadata": {
    "ExecuteTime": {
     "end_time": "2025-04-10T08:57:44.017136Z",
     "start_time": "2025-04-10T07:06:15.906316Z"
    }
   },
   "cell_type": "code",
   "source": "",
   "id": "e76a939b747a0305",
   "outputs": [],
   "execution_count": null
  }
 ],
 "metadata": {
  "kernelspec": {
   "display_name": "Python 3",
   "language": "python",
   "name": "python3"
  },
  "language_info": {
   "codemirror_mode": {
    "name": "ipython",
    "version": 2
   },
   "file_extension": ".py",
   "mimetype": "text/x-python",
   "name": "python",
   "nbconvert_exporter": "python",
   "pygments_lexer": "ipython2",
   "version": "2.7.6"
  }
 },
 "nbformat": 4,
 "nbformat_minor": 5
}
