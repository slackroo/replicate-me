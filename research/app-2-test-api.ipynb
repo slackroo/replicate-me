{
 "cells": [
  {
   "cell_type": "code",
   "id": "initial_id",
   "metadata": {
    "collapsed": true,
    "ExecuteTime": {
     "end_time": "2025-04-13T04:25:58.170390Z",
     "start_time": "2025-04-13T04:25:58.121423Z"
    }
   },
   "source": [
    "import httpx\n",
    "endpoint = \"http://127.0.0.1:8000/\"\n",
    "# prompt = \"a phot of TOK who is a architecture explaining building plans to a contractor\"\n",
    "res = httpx.get(endpoint)\n",
    "res.status_code, res.json(), res.headers.get('Retry-After')"
   ],
   "outputs": [
    {
     "data": {
      "text/plain": [
       "(429, {'detail': 'Too many requests, try again soon. '}, '1')"
      ]
     },
     "execution_count": 51,
     "metadata": {},
     "output_type": "execute_result"
    }
   ],
   "execution_count": 51
  },
  {
   "metadata": {
    "ExecuteTime": {
     "end_time": "2025-04-13T04:23:41.785950Z",
     "start_time": "2025-04-13T04:23:41.758364Z"
    }
   },
   "cell_type": "code",
   "source": "r",
   "id": "61d62c69d351cbed",
   "outputs": [
    {
     "ename": "NameError",
     "evalue": "name 'r' is not defined",
     "output_type": "error",
     "traceback": [
      "\u001B[31m---------------------------------------------------------------------------\u001B[39m",
      "\u001B[31mNameError\u001B[39m                                 Traceback (most recent call last)",
      "\u001B[36mCell\u001B[39m\u001B[36m \u001B[39m\u001B[32mIn[32]\u001B[39m\u001B[32m, line 1\u001B[39m\n\u001B[32m----> \u001B[39m\u001B[32m1\u001B[39m \u001B[43mr\u001B[49m\n",
      "\u001B[31mNameError\u001B[39m: name 'r' is not defined"
     ]
    }
   ],
   "execution_count": 32
  },
  {
   "metadata": {
    "ExecuteTime": {
     "end_time": "2025-04-13T04:21:52.312682Z",
     "start_time": "2025-04-13T04:21:52.309681Z"
    }
   },
   "cell_type": "code",
   "source": "res.headers.get(\"X-Forwarded-For\")",
   "id": "11f662ebd5443d50",
   "outputs": [],
   "execution_count": 30
  },
  {
   "metadata": {},
   "cell_type": "code",
   "outputs": [],
   "execution_count": null,
   "source": "",
   "id": "aa7bab46f854f4aa"
  }
 ],
 "metadata": {
  "kernelspec": {
   "display_name": "Python 3",
   "language": "python",
   "name": "python3"
  },
  "language_info": {
   "codemirror_mode": {
    "name": "ipython",
    "version": 2
   },
   "file_extension": ".py",
   "mimetype": "text/x-python",
   "name": "python",
   "nbconvert_exporter": "python",
   "pygments_lexer": "ipython2",
   "version": "2.7.6"
  }
 },
 "nbformat": 4,
 "nbformat_minor": 5
}
